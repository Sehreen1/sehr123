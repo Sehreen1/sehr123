{
 "cells": [
  {
   "cell_type": "code",
   "execution_count": 1,
   "id": "3128ae25",
   "metadata": {},
   "outputs": [],
   "source": [
    "import numpy as np\n",
    "import pandas as pd\n",
    "import matplotlib.pyplot as plt\n",
    "import seaborn as sns\n",
    "sns.set()"
   ]
  },
  {
   "cell_type": "code",
   "execution_count": 2,
   "id": "c586fe45",
   "metadata": {},
   "outputs": [],
   "source": [
    "import warnings\n",
    "warnings.filterwarnings('ignore')"
   ]
  },
  {
   "cell_type": "code",
   "execution_count": 3,
   "id": "3a9b1558",
   "metadata": {},
   "outputs": [],
   "source": [
    "df=pd.read_csv('googleplaystore.csv')"
   ]
  },
  {
   "cell_type": "code",
   "execution_count": 4,
   "id": "fc4e0e70",
   "metadata": {},
   "outputs": [
    {
     "data": {
      "text/plain": [
       "(10841, 13)"
      ]
     },
     "execution_count": 4,
     "metadata": {},
     "output_type": "execute_result"
    }
   ],
   "source": [
    "df.shape"
   ]
  },
  {
   "cell_type": "code",
   "execution_count": 5,
   "id": "01624d85",
   "metadata": {},
   "outputs": [
    {
     "name": "stdout",
     "output_type": "stream",
     "text": [
      "<class 'pandas.core.frame.DataFrame'>\n",
      "RangeIndex: 10841 entries, 0 to 10840\n",
      "Data columns (total 13 columns):\n",
      " #   Column          Non-Null Count  Dtype  \n",
      "---  ------          --------------  -----  \n",
      " 0   App             10841 non-null  object \n",
      " 1   Category        10841 non-null  object \n",
      " 2   Rating          9367 non-null   float64\n",
      " 3   Reviews         10841 non-null  object \n",
      " 4   Size            10841 non-null  object \n",
      " 5   Installs        10841 non-null  object \n",
      " 6   Type            10840 non-null  object \n",
      " 7   Price           10841 non-null  object \n",
      " 8   Content_Rating  10840 non-null  object \n",
      " 9   Genres          10841 non-null  object \n",
      " 10  Last Updated    10841 non-null  object \n",
      " 11  Current Ver     10833 non-null  object \n",
      " 12  Android Ver     10838 non-null  object \n",
      "dtypes: float64(1), object(12)\n",
      "memory usage: 1.1+ MB\n"
     ]
    }
   ],
   "source": [
    "df.info()"
   ]
  },
  {
   "cell_type": "code",
   "execution_count": 6,
   "id": "c51e2694",
   "metadata": {},
   "outputs": [
    {
     "data": {
      "text/plain": [
       "App                  0\n",
       "Category             0\n",
       "Rating            1474\n",
       "Reviews              0\n",
       "Size                 0\n",
       "Installs             0\n",
       "Type                 1\n",
       "Price                0\n",
       "Content_Rating       1\n",
       "Genres               0\n",
       "Last Updated         0\n",
       "Current Ver          8\n",
       "Android Ver          3\n",
       "dtype: int64"
      ]
     },
     "execution_count": 6,
     "metadata": {},
     "output_type": "execute_result"
    }
   ],
   "source": [
    "df.isnull().sum()"
   ]
  },
  {
   "cell_type": "code",
   "execution_count": 7,
   "id": "398b4eb7",
   "metadata": {},
   "outputs": [],
   "source": [
    "df.dropna(inplace=True)\n"
   ]
  },
  {
   "cell_type": "code",
   "execution_count": 8,
   "id": "c735853c",
   "metadata": {},
   "outputs": [],
   "source": [
    "# if the target value is missing, then drop it, if independent variable is missing then use mean median etc."
   ]
  },
  {
   "cell_type": "code",
   "execution_count": 9,
   "id": "7061910e",
   "metadata": {},
   "outputs": [
    {
     "data": {
      "text/plain": [
       "0          8715\n",
       "$2.99       114\n",
       "$0.99       106\n",
       "$4.99        70\n",
       "$1.99        59\n",
       "           ... \n",
       "$1.29         1\n",
       "$299.99       1\n",
       "$379.99       1\n",
       "$37.99        1\n",
       "$1.20         1\n",
       "Name: Price, Length: 73, dtype: int64"
      ]
     },
     "execution_count": 9,
     "metadata": {},
     "output_type": "execute_result"
    }
   ],
   "source": [
    "# first we will fix price, it is listed as object:\n",
    "df['Price'].value_counts()"
   ]
  },
  {
   "cell_type": "code",
   "execution_count": 10,
   "id": "5c4d6f31",
   "metadata": {},
   "outputs": [],
   "source": [
    "#fix the price column\n",
    "df['Price']=df['Price'].map(lambda x: 0 if x=='0' else float(x[1:]))"
   ]
  },
  {
   "cell_type": "code",
   "execution_count": 11,
   "id": "20c2c04f",
   "metadata": {},
   "outputs": [
    {
     "data": {
      "text/plain": [
       "0.00      8715\n",
       "2.99       114\n",
       "0.99       106\n",
       "4.99        70\n",
       "1.99        59\n",
       "          ... \n",
       "1.29         1\n",
       "299.99       1\n",
       "379.99       1\n",
       "37.99        1\n",
       "1.20         1\n",
       "Name: Price, Length: 73, dtype: int64"
      ]
     },
     "execution_count": 11,
     "metadata": {},
     "output_type": "execute_result"
    }
   ],
   "source": [
    "df['Price'].value_counts()"
   ]
  },
  {
   "cell_type": "code",
   "execution_count": 12,
   "id": "b5b53417",
   "metadata": {},
   "outputs": [
    {
     "data": {
      "text/plain": [
       "2         83\n",
       "3         78\n",
       "5         74\n",
       "4         74\n",
       "1         67\n",
       "          ..\n",
       "666521     1\n",
       "342912     1\n",
       "4272       1\n",
       "5517       1\n",
       "398307     1\n",
       "Name: Reviews, Length: 5990, dtype: int64"
      ]
     },
     "execution_count": 12,
     "metadata": {},
     "output_type": "execute_result"
    }
   ],
   "source": [
    "#fix the reviews column\n",
    "df['Reviews'].value_counts()"
   ]
  },
  {
   "cell_type": "code",
   "execution_count": 13,
   "id": "283f0496",
   "metadata": {},
   "outputs": [],
   "source": [
    "df['Reviews']=df['Reviews'].astype('int32')"
   ]
  },
  {
   "cell_type": "code",
   "execution_count": 14,
   "id": "09126c57",
   "metadata": {},
   "outputs": [
    {
     "data": {
      "text/plain": [
       "Everyone           7414\n",
       "Teen               1084\n",
       "Mature_17+          461\n",
       "Everyone_10+        397\n",
       "Adults_only_18+       3\n",
       "Unrated               1\n",
       "Name: Content_Rating, dtype: int64"
      ]
     },
     "execution_count": 14,
     "metadata": {},
     "output_type": "execute_result"
    }
   ],
   "source": [
    "#fix content_rating\n",
    "df['Content_Rating'].value_counts()"
   ]
  },
  {
   "cell_type": "code",
   "execution_count": 15,
   "id": "2b846836",
   "metadata": {},
   "outputs": [
    {
     "data": {
      "text/plain": [
       "1,000,000+        1576\n",
       "10,000,000+       1252\n",
       "100,000+          1150\n",
       "10,000+           1009\n",
       "5,000,000+         752\n",
       "1,000+             712\n",
       "500,000+           537\n",
       "50,000+            466\n",
       "5,000+             431\n",
       "100,000,000+       409\n",
       "100+               309\n",
       "50,000,000+        289\n",
       "500+               201\n",
       "500,000,000+        72\n",
       "10+                 69\n",
       "1,000,000,000+      58\n",
       "50+                 56\n",
       "5+                   9\n",
       "1+                   3\n",
       "Name: Installs, dtype: int64"
      ]
     },
     "execution_count": 15,
     "metadata": {},
     "output_type": "execute_result"
    }
   ],
   "source": [
    "#fix installs\n",
    "df['Installs'].value_counts()"
   ]
  },
  {
   "cell_type": "code",
   "execution_count": 16,
   "id": "25f6518e",
   "metadata": {},
   "outputs": [],
   "source": [
    "# we have to remove comma,+ sign and convert it into integer\n",
    "def clean_installs(val):\n",
    "    return int(val.replace(\",\",\"\").replace(\"+\",\"\"))"
   ]
  },
  {
   "cell_type": "code",
   "execution_count": 17,
   "id": "b8c36f8c",
   "metadata": {},
   "outputs": [],
   "source": [
    "df['Installs']=df['Installs'].map(clean_installs)"
   ]
  },
  {
   "cell_type": "code",
   "execution_count": 18,
   "id": "48294841",
   "metadata": {},
   "outputs": [
    {
     "data": {
      "text/plain": [
       "Varies with device    1637\n",
       "14M                    165\n",
       "12M                    161\n",
       "15M                    159\n",
       "11M                    159\n",
       "                      ... \n",
       "383k                     1\n",
       "454k                     1\n",
       "812k                     1\n",
       "442k                     1\n",
       "619k                     1\n",
       "Name: Size, Length: 413, dtype: int64"
      ]
     },
     "execution_count": 18,
     "metadata": {},
     "output_type": "execute_result"
    }
   ],
   "source": [
    "#fix size\n",
    "df['Size'].value_counts()"
   ]
  },
  {
   "cell_type": "code",
   "execution_count": 19,
   "id": "30935544",
   "metadata": {},
   "outputs": [],
   "source": [
    "def clean_size(size):\n",
    "    if 'M' in size:\n",
    "        x=size[:-1]\n",
    "        x=float(x)*1000\n",
    "        return x\n",
    "    elif 'k' in size:\n",
    "        x=size[:1]\n",
    "        x=float(x)\n",
    "        return x\n",
    "    else:\n",
    "        return None"
   ]
  },
  {
   "cell_type": "code",
   "execution_count": 20,
   "id": "c96d04fc",
   "metadata": {},
   "outputs": [],
   "source": [
    "df['Size']=df['Size'].map(clean_size)"
   ]
  },
  {
   "cell_type": "code",
   "execution_count": 21,
   "id": "92d5ba8c",
   "metadata": {},
   "outputs": [
    {
     "data": {
      "text/plain": [
       "0        19000.0\n",
       "1        14000.0\n",
       "2         8700.0\n",
       "3        25000.0\n",
       "4         2800.0\n",
       "          ...   \n",
       "10834     2600.0\n",
       "10836    53000.0\n",
       "10837     3600.0\n",
       "10839        NaN\n",
       "10840    19000.0\n",
       "Name: Size, Length: 9360, dtype: float64"
      ]
     },
     "execution_count": 21,
     "metadata": {},
     "output_type": "execute_result"
    }
   ],
   "source": [
    "df.Size"
   ]
  },
  {
   "cell_type": "code",
   "execution_count": 22,
   "id": "63cc5d6c",
   "metadata": {},
   "outputs": [],
   "source": [
    "df['Size'].fillna(df['Size'].median(),inplace=True)"
   ]
  },
  {
   "cell_type": "code",
   "execution_count": 23,
   "id": "bc089998",
   "metadata": {},
   "outputs": [
    {
     "data": {
      "text/plain": [
       "App               0\n",
       "Category          0\n",
       "Rating            0\n",
       "Reviews           0\n",
       "Size              0\n",
       "Installs          0\n",
       "Type              0\n",
       "Price             0\n",
       "Content_Rating    0\n",
       "Genres            0\n",
       "Last Updated      0\n",
       "Current Ver       0\n",
       "Android Ver       0\n",
       "dtype: int64"
      ]
     },
     "execution_count": 23,
     "metadata": {},
     "output_type": "execute_result"
    }
   ],
   "source": [
    "df.isnull().sum()"
   ]
  },
  {
   "cell_type": "code",
   "execution_count": 24,
   "id": "b6878f59",
   "metadata": {},
   "outputs": [
    {
     "data": {
      "text/html": [
       "<div>\n",
       "<style scoped>\n",
       "    .dataframe tbody tr th:only-of-type {\n",
       "        vertical-align: middle;\n",
       "    }\n",
       "\n",
       "    .dataframe tbody tr th {\n",
       "        vertical-align: top;\n",
       "    }\n",
       "\n",
       "    .dataframe thead th {\n",
       "        text-align: right;\n",
       "    }\n",
       "</style>\n",
       "<table border=\"1\" class=\"dataframe\">\n",
       "  <thead>\n",
       "    <tr style=\"text-align: right;\">\n",
       "      <th></th>\n",
       "      <th>App</th>\n",
       "      <th>Category</th>\n",
       "      <th>Rating</th>\n",
       "      <th>Reviews</th>\n",
       "      <th>Size</th>\n",
       "      <th>Installs</th>\n",
       "      <th>Type</th>\n",
       "      <th>Price</th>\n",
       "      <th>Content_Rating</th>\n",
       "      <th>Genres</th>\n",
       "      <th>Last Updated</th>\n",
       "      <th>Current Ver</th>\n",
       "      <th>Android Ver</th>\n",
       "    </tr>\n",
       "  </thead>\n",
       "  <tbody>\n",
       "    <tr>\n",
       "      <th>2454</th>\n",
       "      <td>KBA-EZ Health Guide</td>\n",
       "      <td>MEDICAL</td>\n",
       "      <td>5.0</td>\n",
       "      <td>4</td>\n",
       "      <td>25000.0</td>\n",
       "      <td>1</td>\n",
       "      <td>Free</td>\n",
       "      <td>0.00</td>\n",
       "      <td>Everyone</td>\n",
       "      <td>Medical</td>\n",
       "      <td>August 2, 2018</td>\n",
       "      <td>1.0.72</td>\n",
       "      <td>4.0.3 and up</td>\n",
       "    </tr>\n",
       "    <tr>\n",
       "      <th>4663</th>\n",
       "      <td>Alarmy (Sleep If U Can) - Pro</td>\n",
       "      <td>LIFESTYLE</td>\n",
       "      <td>4.8</td>\n",
       "      <td>10249</td>\n",
       "      <td>14000.0</td>\n",
       "      <td>10000</td>\n",
       "      <td>Paid</td>\n",
       "      <td>2.49</td>\n",
       "      <td>Everyone</td>\n",
       "      <td>Lifestyle</td>\n",
       "      <td>July 30, 2018</td>\n",
       "      <td>Varies with device</td>\n",
       "      <td>Varies with device</td>\n",
       "    </tr>\n",
       "    <tr>\n",
       "      <th>5917</th>\n",
       "      <td>Ra Ga Ba</td>\n",
       "      <td>GAME</td>\n",
       "      <td>5.0</td>\n",
       "      <td>2</td>\n",
       "      <td>20000.0</td>\n",
       "      <td>1</td>\n",
       "      <td>Paid</td>\n",
       "      <td>1.49</td>\n",
       "      <td>Everyone</td>\n",
       "      <td>Arcade</td>\n",
       "      <td>February 8, 2017</td>\n",
       "      <td>1.0.4</td>\n",
       "      <td>2.3 and up</td>\n",
       "    </tr>\n",
       "    <tr>\n",
       "      <th>6700</th>\n",
       "      <td>Brick Breaker BR</td>\n",
       "      <td>GAME</td>\n",
       "      <td>5.0</td>\n",
       "      <td>7</td>\n",
       "      <td>19000.0</td>\n",
       "      <td>5</td>\n",
       "      <td>Free</td>\n",
       "      <td>0.00</td>\n",
       "      <td>Everyone</td>\n",
       "      <td>Arcade</td>\n",
       "      <td>July 23, 2018</td>\n",
       "      <td>1</td>\n",
       "      <td>4.1 and up</td>\n",
       "    </tr>\n",
       "    <tr>\n",
       "      <th>7402</th>\n",
       "      <td>Trovami se ci riesci</td>\n",
       "      <td>GAME</td>\n",
       "      <td>5.0</td>\n",
       "      <td>11</td>\n",
       "      <td>6100.0</td>\n",
       "      <td>10</td>\n",
       "      <td>Free</td>\n",
       "      <td>0.00</td>\n",
       "      <td>Everyone</td>\n",
       "      <td>Arcade</td>\n",
       "      <td>March 11, 2017</td>\n",
       "      <td>0.1</td>\n",
       "      <td>2.3 and up</td>\n",
       "    </tr>\n",
       "    <tr>\n",
       "      <th>8591</th>\n",
       "      <td>DN Blog</td>\n",
       "      <td>SOCIAL</td>\n",
       "      <td>5.0</td>\n",
       "      <td>20</td>\n",
       "      <td>4200.0</td>\n",
       "      <td>10</td>\n",
       "      <td>Free</td>\n",
       "      <td>0.00</td>\n",
       "      <td>Teen</td>\n",
       "      <td>Social</td>\n",
       "      <td>July 23, 2018</td>\n",
       "      <td>1</td>\n",
       "      <td>4.0 and up</td>\n",
       "    </tr>\n",
       "    <tr>\n",
       "      <th>10697</th>\n",
       "      <td>Mu.F.O.</td>\n",
       "      <td>GAME</td>\n",
       "      <td>5.0</td>\n",
       "      <td>2</td>\n",
       "      <td>16000.0</td>\n",
       "      <td>1</td>\n",
       "      <td>Paid</td>\n",
       "      <td>0.99</td>\n",
       "      <td>Everyone</td>\n",
       "      <td>Arcade</td>\n",
       "      <td>March 3, 2017</td>\n",
       "      <td>1</td>\n",
       "      <td>2.3 and up</td>\n",
       "    </tr>\n",
       "  </tbody>\n",
       "</table>\n",
       "</div>"
      ],
      "text/plain": [
       "                                 App   Category  Rating  Reviews     Size  \\\n",
       "2454             KBA-EZ Health Guide    MEDICAL     5.0        4  25000.0   \n",
       "4663   Alarmy (Sleep If U Can) - Pro  LIFESTYLE     4.8    10249  14000.0   \n",
       "5917                        Ra Ga Ba       GAME     5.0        2  20000.0   \n",
       "6700                Brick Breaker BR       GAME     5.0        7  19000.0   \n",
       "7402            Trovami se ci riesci       GAME     5.0       11   6100.0   \n",
       "8591                         DN Blog     SOCIAL     5.0       20   4200.0   \n",
       "10697                        Mu.F.O.       GAME     5.0        2  16000.0   \n",
       "\n",
       "       Installs  Type  Price Content_Rating     Genres      Last Updated  \\\n",
       "2454          1  Free   0.00       Everyone    Medical    August 2, 2018   \n",
       "4663      10000  Paid   2.49       Everyone  Lifestyle     July 30, 2018   \n",
       "5917          1  Paid   1.49       Everyone     Arcade  February 8, 2017   \n",
       "6700          5  Free   0.00       Everyone     Arcade     July 23, 2018   \n",
       "7402         10  Free   0.00       Everyone     Arcade    March 11, 2017   \n",
       "8591         10  Free   0.00           Teen     Social     July 23, 2018   \n",
       "10697         1  Paid   0.99       Everyone     Arcade     March 3, 2017   \n",
       "\n",
       "              Current Ver         Android Ver  \n",
       "2454               1.0.72        4.0.3 and up  \n",
       "4663   Varies with device  Varies with device  \n",
       "5917                1.0.4          2.3 and up  \n",
       "6700                    1          4.1 and up  \n",
       "7402                  0.1          2.3 and up  \n",
       "8591                    1          4.0 and up  \n",
       "10697                   1          2.3 and up  "
      ]
     },
     "execution_count": 24,
     "metadata": {},
     "output_type": "execute_result"
    }
   ],
   "source": [
    "df[df['Reviews'] > df['Installs']]"
   ]
  },
  {
   "cell_type": "code",
   "execution_count": 25,
   "id": "55f19565",
   "metadata": {},
   "outputs": [
    {
     "data": {
      "text/plain": [
       "7"
      ]
     },
     "execution_count": 25,
     "metadata": {},
     "output_type": "execute_result"
    }
   ],
   "source": [
    "len(df[df['Reviews'] > df['Installs']])"
   ]
  },
  {
   "cell_type": "code",
   "execution_count": 26,
   "id": "6373b713",
   "metadata": {},
   "outputs": [
    {
     "data": {
      "text/plain": [
       "Int64Index([2454, 4663, 5917, 6700, 7402, 8591, 10697], dtype='int64')"
      ]
     },
     "execution_count": 26,
     "metadata": {},
     "output_type": "execute_result"
    }
   ],
   "source": [
    "df[df['Reviews'] > df['Installs']].index"
   ]
  },
  {
   "cell_type": "code",
   "execution_count": 27,
   "id": "b7821b36",
   "metadata": {},
   "outputs": [],
   "source": [
    "df=df[df['Reviews'] <= df['Installs']]"
   ]
  },
  {
   "cell_type": "code",
   "execution_count": 28,
   "id": "75dea4cd",
   "metadata": {},
   "outputs": [
    {
     "data": {
      "text/plain": [
       "(9353, 13)"
      ]
     },
     "execution_count": 28,
     "metadata": {},
     "output_type": "execute_result"
    }
   ],
   "source": [
    "df.shape"
   ]
  },
  {
   "cell_type": "code",
   "execution_count": 29,
   "id": "31307ca5",
   "metadata": {},
   "outputs": [
    {
     "data": {
      "text/html": [
       "<div>\n",
       "<style scoped>\n",
       "    .dataframe tbody tr th:only-of-type {\n",
       "        vertical-align: middle;\n",
       "    }\n",
       "\n",
       "    .dataframe tbody tr th {\n",
       "        vertical-align: top;\n",
       "    }\n",
       "\n",
       "    .dataframe thead th {\n",
       "        text-align: right;\n",
       "    }\n",
       "</style>\n",
       "<table border=\"1\" class=\"dataframe\">\n",
       "  <thead>\n",
       "    <tr style=\"text-align: right;\">\n",
       "      <th></th>\n",
       "      <th>App</th>\n",
       "      <th>Category</th>\n",
       "      <th>Rating</th>\n",
       "      <th>Reviews</th>\n",
       "      <th>Size</th>\n",
       "      <th>Installs</th>\n",
       "      <th>Type</th>\n",
       "      <th>Price</th>\n",
       "      <th>Content_Rating</th>\n",
       "      <th>Genres</th>\n",
       "      <th>Last Updated</th>\n",
       "      <th>Current Ver</th>\n",
       "      <th>Android Ver</th>\n",
       "    </tr>\n",
       "  </thead>\n",
       "  <tbody>\n",
       "  </tbody>\n",
       "</table>\n",
       "</div>"
      ],
      "text/plain": [
       "Empty DataFrame\n",
       "Columns: [App, Category, Rating, Reviews, Size, Installs, Type, Price, Content_Rating, Genres, Last Updated, Current Ver, Android Ver]\n",
       "Index: []"
      ]
     },
     "execution_count": 29,
     "metadata": {},
     "output_type": "execute_result"
    }
   ],
   "source": [
    "# any app which is listed free and has price zero\n",
    "df[(df['Price'] > 0) & (df['Type']=='Free')]"
   ]
  },
  {
   "cell_type": "markdown",
   "id": "25abd011",
   "metadata": {},
   "source": [
    "therefore no app"
   ]
  },
  {
   "cell_type": "markdown",
   "id": "c10779d8",
   "metadata": {},
   "source": [
    "# Univariate Analysis"
   ]
  },
  {
   "cell_type": "code",
   "execution_count": 30,
   "id": "e435148c",
   "metadata": {},
   "outputs": [
    {
     "data": {
      "text/plain": [
       "count    9353.0\n",
       "mean        1.0\n",
       "std        16.0\n",
       "min         0.0\n",
       "25%         0.0\n",
       "50%         0.0\n",
       "75%         0.0\n",
       "max       400.0\n",
       "Name: Price, dtype: float64"
      ]
     },
     "execution_count": 30,
     "metadata": {},
     "output_type": "execute_result"
    }
   ],
   "source": [
    "df['Price'].describe().round(0)"
   ]
  },
  {
   "cell_type": "markdown",
   "id": "2e061fec",
   "metadata": {},
   "source": [
    "IQR =Q3-Q1=0\n",
    "UB=0,LB=0\n",
    "Therefore any non zero value will be an outlier"
   ]
  },
  {
   "cell_type": "code",
   "execution_count": 31,
   "id": "909fd89b",
   "metadata": {},
   "outputs": [
    {
     "data": {
      "text/plain": [
       "<AxesSubplot:xlabel='Price'>"
      ]
     },
     "execution_count": 31,
     "metadata": {},
     "output_type": "execute_result"
    },
    {
     "data": {
      "image/png": "[encoded data removed]",
      "text/plain": [
       "<Figure size 432x288 with 1 Axes>"
      ]
     },
     "metadata": {},
     "output_type": "display_data"
    }
   ],
   "source": [
    "sns.boxplot(data=df,x='Price')"
   ]
  },
  {
   "cell_type": "code",
   "execution_count": 32,
   "id": "0062ef7c",
   "metadata": {},
   "outputs": [
    {
     "data": {
      "text/plain": [
       "count        9353.0\n",
       "mean       514761.0\n",
       "std       3146169.0\n",
       "min             1.0\n",
       "25%           187.0\n",
       "50%          5967.0\n",
       "75%         81747.0\n",
       "max      78158306.0\n",
       "Name: Reviews, dtype: float64"
      ]
     },
     "execution_count": 32,
     "metadata": {},
     "output_type": "execute_result"
    }
   ],
   "source": [
    "df['Reviews'].describe().round(0)"
   ]
  },
  {
   "cell_type": "code",
   "execution_count": 33,
   "id": "7b704767",
   "metadata": {},
   "outputs": [
    {
     "data": {
      "text/plain": [
       "<AxesSubplot:xlabel='Reviews'>"
      ]
     },
     "execution_count": 33,
     "metadata": {},
     "output_type": "execute_result"
    },
    {
     "data": {
      "image/png": "[encoded data removed]",
      "text/plain": [
       "<Figure size 432x288 with 1 Axes>"
      ]
     },
     "metadata": {},
     "output_type": "display_data"
    }
   ],
   "source": [
    "sns.boxplot(data=df,x='Reviews')"
   ]
  },
  {
   "cell_type": "code",
   "execution_count": 34,
   "id": "894cf557",
   "metadata": {},
   "outputs": [
    {
     "data": {
      "text/plain": [
       "<AxesSubplot:xlabel='Rating', ylabel='Count'>"
      ]
     },
     "execution_count": 34,
     "metadata": {},
     "output_type": "execute_result"
    },
    {
     "data": {
      "image/png": "[encoded data removed]",
      "text/plain": [
       "<Figure size 432x288 with 1 Axes>"
      ]
     },
     "metadata": {},
     "output_type": "display_data"
    }
   ],
   "source": [
    "sns.histplot(data=df,x='Rating',binwidth=.3)"
   ]
  },
  {
   "cell_type": "markdown",
   "id": "055d6eb2",
   "metadata": {},
   "source": [
    "# Treatment of Outliers"
   ]
  },
  {
   "cell_type": "code",
   "execution_count": 35,
   "id": "79e59cd9",
   "metadata": {},
   "outputs": [
    {
     "data": {
      "text/plain": [
       "<AxesSubplot:xlabel='Price'>"
      ]
     },
     "execution_count": 35,
     "metadata": {},
     "output_type": "execute_result"
    },
    {
     "data": {
      "image/png": "[encoded data removed]",
      "text/plain": [
       "<Figure size 432x288 with 1 Axes>"
      ]
     },
     "metadata": {},
     "output_type": "display_data"
    }
   ],
   "source": [
    "sns.boxplot(data=df,x='Price')"
   ]
  },
  {
   "cell_type": "code",
   "execution_count": 36,
   "id": "f5bd9413",
   "metadata": {},
   "outputs": [
    {
     "data": {
      "text/plain": [
       "0        True\n",
       "1        True\n",
       "2        True\n",
       "3        True\n",
       "4        True\n",
       "         ... \n",
       "10834    True\n",
       "10836    True\n",
       "10837    True\n",
       "10839    True\n",
       "10840    True\n",
       "Name: Price, Length: 9353, dtype: bool"
      ]
     },
     "execution_count": 36,
     "metadata": {},
     "output_type": "execute_result"
    }
   ],
   "source": [
    "df['Price'] < 200"
   ]
  },
  {
   "cell_type": "code",
   "execution_count": 37,
   "id": "264434ca",
   "metadata": {},
   "outputs": [
    {
     "data": {
      "text/html": [
       "<div>\n",
       "<style scoped>\n",
       "    .dataframe tbody tr th:only-of-type {\n",
       "        vertical-align: middle;\n",
       "    }\n",
       "\n",
       "    .dataframe tbody tr th {\n",
       "        vertical-align: top;\n",
       "    }\n",
       "\n",
       "    .dataframe thead th {\n",
       "        text-align: right;\n",
       "    }\n",
       "</style>\n",
       "<table border=\"1\" class=\"dataframe\">\n",
       "  <thead>\n",
       "    <tr style=\"text-align: right;\">\n",
       "      <th></th>\n",
       "      <th>App</th>\n",
       "      <th>Category</th>\n",
       "      <th>Rating</th>\n",
       "      <th>Reviews</th>\n",
       "      <th>Size</th>\n",
       "      <th>Installs</th>\n",
       "      <th>Type</th>\n",
       "      <th>Price</th>\n",
       "      <th>Content_Rating</th>\n",
       "      <th>Genres</th>\n",
       "      <th>Last Updated</th>\n",
       "      <th>Current Ver</th>\n",
       "      <th>Android Ver</th>\n",
       "    </tr>\n",
       "  </thead>\n",
       "  <tbody>\n",
       "    <tr>\n",
       "      <th>0</th>\n",
       "      <td>Photo Editor &amp; Candy Camera &amp; Grid &amp; ScrapBook</td>\n",
       "      <td>ART_AND_DESIGN</td>\n",
       "      <td>4.1</td>\n",
       "      <td>159</td>\n",
       "      <td>19000.0</td>\n",
       "      <td>10000</td>\n",
       "      <td>Free</td>\n",
       "      <td>0.0</td>\n",
       "      <td>Everyone</td>\n",
       "      <td>Art_&amp;_Design</td>\n",
       "      <td>January 7, 2018</td>\n",
       "      <td>1.0.0</td>\n",
       "      <td>4.0.3 and up</td>\n",
       "    </tr>\n",
       "    <tr>\n",
       "      <th>1</th>\n",
       "      <td>Coloring book moana</td>\n",
       "      <td>ART_AND_DESIGN</td>\n",
       "      <td>3.9</td>\n",
       "      <td>967</td>\n",
       "      <td>14000.0</td>\n",
       "      <td>500000</td>\n",
       "      <td>Free</td>\n",
       "      <td>0.0</td>\n",
       "      <td>Everyone</td>\n",
       "      <td>Art_&amp;_Design_Pretend_Play</td>\n",
       "      <td>January 15, 2018</td>\n",
       "      <td>2.0.0</td>\n",
       "      <td>4.0.3 and up</td>\n",
       "    </tr>\n",
       "    <tr>\n",
       "      <th>2</th>\n",
       "      <td>U Launcher Lite – FREE Live Cool Themes, Hide ...</td>\n",
       "      <td>ART_AND_DESIGN</td>\n",
       "      <td>4.7</td>\n",
       "      <td>87510</td>\n",
       "      <td>8700.0</td>\n",
       "      <td>5000000</td>\n",
       "      <td>Free</td>\n",
       "      <td>0.0</td>\n",
       "      <td>Everyone</td>\n",
       "      <td>Art_&amp;_Design</td>\n",
       "      <td>August 1, 2018</td>\n",
       "      <td>1.2.4</td>\n",
       "      <td>4.0.3 and up</td>\n",
       "    </tr>\n",
       "    <tr>\n",
       "      <th>3</th>\n",
       "      <td>Sketch - Draw &amp; Paint</td>\n",
       "      <td>ART_AND_DESIGN</td>\n",
       "      <td>4.5</td>\n",
       "      <td>215644</td>\n",
       "      <td>25000.0</td>\n",
       "      <td>50000000</td>\n",
       "      <td>Free</td>\n",
       "      <td>0.0</td>\n",
       "      <td>Teen</td>\n",
       "      <td>Art_&amp;_Design</td>\n",
       "      <td>June 8, 2018</td>\n",
       "      <td>Varies with device</td>\n",
       "      <td>4.2 and up</td>\n",
       "    </tr>\n",
       "    <tr>\n",
       "      <th>4</th>\n",
       "      <td>Pixel Draw - Number Art Coloring Book</td>\n",
       "      <td>ART_AND_DESIGN</td>\n",
       "      <td>4.3</td>\n",
       "      <td>967</td>\n",
       "      <td>2800.0</td>\n",
       "      <td>100000</td>\n",
       "      <td>Free</td>\n",
       "      <td>0.0</td>\n",
       "      <td>Everyone</td>\n",
       "      <td>Art_&amp;_Design_Creativity</td>\n",
       "      <td>June 20, 2018</td>\n",
       "      <td>1.1</td>\n",
       "      <td>4.4 and up</td>\n",
       "    </tr>\n",
       "    <tr>\n",
       "      <th>...</th>\n",
       "      <td>...</td>\n",
       "      <td>...</td>\n",
       "      <td>...</td>\n",
       "      <td>...</td>\n",
       "      <td>...</td>\n",
       "      <td>...</td>\n",
       "      <td>...</td>\n",
       "      <td>...</td>\n",
       "      <td>...</td>\n",
       "      <td>...</td>\n",
       "      <td>...</td>\n",
       "      <td>...</td>\n",
       "      <td>...</td>\n",
       "    </tr>\n",
       "    <tr>\n",
       "      <th>10834</th>\n",
       "      <td>FR Calculator</td>\n",
       "      <td>FAMILY</td>\n",
       "      <td>4.0</td>\n",
       "      <td>7</td>\n",
       "      <td>2600.0</td>\n",
       "      <td>500</td>\n",
       "      <td>Free</td>\n",
       "      <td>0.0</td>\n",
       "      <td>Everyone</td>\n",
       "      <td>Education</td>\n",
       "      <td>June 18, 2017</td>\n",
       "      <td>1.0.0</td>\n",
       "      <td>4.1 and up</td>\n",
       "    </tr>\n",
       "    <tr>\n",
       "      <th>10836</th>\n",
       "      <td>Sya9a Maroc - FR</td>\n",
       "      <td>FAMILY</td>\n",
       "      <td>4.5</td>\n",
       "      <td>38</td>\n",
       "      <td>53000.0</td>\n",
       "      <td>5000</td>\n",
       "      <td>Free</td>\n",
       "      <td>0.0</td>\n",
       "      <td>Everyone</td>\n",
       "      <td>Education</td>\n",
       "      <td>July 25, 2017</td>\n",
       "      <td>1.48</td>\n",
       "      <td>4.1 and up</td>\n",
       "    </tr>\n",
       "    <tr>\n",
       "      <th>10837</th>\n",
       "      <td>Fr. Mike Schmitz Audio Teachings</td>\n",
       "      <td>FAMILY</td>\n",
       "      <td>5.0</td>\n",
       "      <td>4</td>\n",
       "      <td>3600.0</td>\n",
       "      <td>100</td>\n",
       "      <td>Free</td>\n",
       "      <td>0.0</td>\n",
       "      <td>Everyone</td>\n",
       "      <td>Education</td>\n",
       "      <td>July 6, 2018</td>\n",
       "      <td>1</td>\n",
       "      <td>4.1 and up</td>\n",
       "    </tr>\n",
       "    <tr>\n",
       "      <th>10839</th>\n",
       "      <td>The SCP Foundation DB fr nn5n</td>\n",
       "      <td>BOOKS_AND_REFERENCE</td>\n",
       "      <td>4.5</td>\n",
       "      <td>114</td>\n",
       "      <td>14000.0</td>\n",
       "      <td>1000</td>\n",
       "      <td>Free</td>\n",
       "      <td>0.0</td>\n",
       "      <td>Mature_17+</td>\n",
       "      <td>Books_&amp;_Reference</td>\n",
       "      <td>January 19, 2015</td>\n",
       "      <td>Varies with device</td>\n",
       "      <td>Varies with device</td>\n",
       "    </tr>\n",
       "    <tr>\n",
       "      <th>10840</th>\n",
       "      <td>iHoroscope - 2018 Daily Horoscope &amp; Astrology</td>\n",
       "      <td>LIFESTYLE</td>\n",
       "      <td>4.5</td>\n",
       "      <td>398307</td>\n",
       "      <td>19000.0</td>\n",
       "      <td>10000000</td>\n",
       "      <td>Free</td>\n",
       "      <td>0.0</td>\n",
       "      <td>Everyone</td>\n",
       "      <td>Lifestyle</td>\n",
       "      <td>July 25, 2018</td>\n",
       "      <td>Varies with device</td>\n",
       "      <td>Varies with device</td>\n",
       "    </tr>\n",
       "  </tbody>\n",
       "</table>\n",
       "<p>9338 rows × 13 columns</p>\n",
       "</div>"
      ],
      "text/plain": [
       "                                                     App             Category  \\\n",
       "0         Photo Editor & Candy Camera & Grid & ScrapBook       ART_AND_DESIGN   \n",
       "1                                    Coloring book moana       ART_AND_DESIGN   \n",
       "2      U Launcher Lite – FREE Live Cool Themes, Hide ...       ART_AND_DESIGN   \n",
       "3                                  Sketch - Draw & Paint       ART_AND_DESIGN   \n",
       "4                  Pixel Draw - Number Art Coloring Book       ART_AND_DESIGN   \n",
       "...                                                  ...                  ...   \n",
       "10834                                      FR Calculator               FAMILY   \n",
       "10836                                   Sya9a Maroc - FR               FAMILY   \n",
       "10837                   Fr. Mike Schmitz Audio Teachings               FAMILY   \n",
       "10839                      The SCP Foundation DB fr nn5n  BOOKS_AND_REFERENCE   \n",
       "10840      iHoroscope - 2018 Daily Horoscope & Astrology            LIFESTYLE   \n",
       "\n",
       "       Rating  Reviews     Size  Installs  Type  Price Content_Rating  \\\n",
       "0         4.1      159  19000.0     10000  Free    0.0       Everyone   \n",
       "1         3.9      967  14000.0    500000  Free    0.0       Everyone   \n",
       "2         4.7    87510   8700.0   5000000  Free    0.0       Everyone   \n",
       "3         4.5   215644  25000.0  50000000  Free    0.0           Teen   \n",
       "4         4.3      967   2800.0    100000  Free    0.0       Everyone   \n",
       "...       ...      ...      ...       ...   ...    ...            ...   \n",
       "10834     4.0        7   2600.0       500  Free    0.0       Everyone   \n",
       "10836     4.5       38  53000.0      5000  Free    0.0       Everyone   \n",
       "10837     5.0        4   3600.0       100  Free    0.0       Everyone   \n",
       "10839     4.5      114  14000.0      1000  Free    0.0     Mature_17+   \n",
       "10840     4.5   398307  19000.0  10000000  Free    0.0       Everyone   \n",
       "\n",
       "                          Genres      Last Updated         Current Ver  \\\n",
       "0                   Art_&_Design   January 7, 2018               1.0.0   \n",
       "1      Art_&_Design_Pretend_Play  January 15, 2018               2.0.0   \n",
       "2                   Art_&_Design    August 1, 2018               1.2.4   \n",
       "3                   Art_&_Design      June 8, 2018  Varies with device   \n",
       "4        Art_&_Design_Creativity     June 20, 2018                 1.1   \n",
       "...                          ...               ...                 ...   \n",
       "10834                  Education     June 18, 2017               1.0.0   \n",
       "10836                  Education     July 25, 2017                1.48   \n",
       "10837                  Education      July 6, 2018                   1   \n",
       "10839          Books_&_Reference  January 19, 2015  Varies with device   \n",
       "10840                  Lifestyle     July 25, 2018  Varies with device   \n",
       "\n",
       "              Android Ver  \n",
       "0            4.0.3 and up  \n",
       "1            4.0.3 and up  \n",
       "2            4.0.3 and up  \n",
       "3              4.2 and up  \n",
       "4              4.4 and up  \n",
       "...                   ...  \n",
       "10834          4.1 and up  \n",
       "10836          4.1 and up  \n",
       "10837          4.1 and up  \n",
       "10839  Varies with device  \n",
       "10840  Varies with device  \n",
       "\n",
       "[9338 rows x 13 columns]"
      ]
     },
     "execution_count": 37,
     "metadata": {},
     "output_type": "execute_result"
    }
   ],
   "source": [
    "df=df[df['Price'] < 200]\n",
    "df"
   ]
  },
  {
   "cell_type": "code",
   "execution_count": 38,
   "id": "d46b9f09",
   "metadata": {},
   "outputs": [
    {
     "data": {
      "text/plain": [
       "count        9338.0\n",
       "mean       515586.0\n",
       "std       3148627.0\n",
       "min             1.0\n",
       "25%           188.0\n",
       "50%          6009.0\n",
       "75%         82471.0\n",
       "max      78158306.0\n",
       "Name: Reviews, dtype: float64"
      ]
     },
     "execution_count": 38,
     "metadata": {},
     "output_type": "execute_result"
    }
   ],
   "source": [
    "df['Reviews'].describe().round(0)"
   ]
  },
  {
   "cell_type": "code",
   "execution_count": 39,
   "id": "d358852b",
   "metadata": {},
   "outputs": [
    {
     "data": {
      "text/plain": [
       "<AxesSubplot:xlabel='Reviews'>"
      ]
     },
     "execution_count": 39,
     "metadata": {},
     "output_type": "execute_result"
    },
    {
     "data": {
      "image/png": "[encoded data removed]",
      "text/plain": [
       "<Figure size 432x288 with 1 Axes>"
      ]
     },
     "metadata": {},
     "output_type": "display_data"
    }
   ],
   "source": [
    "sns.boxplot(data=df,x='Reviews')"
   ]
  },
  {
   "cell_type": "code",
   "execution_count": 40,
   "id": "e3eaed94",
   "metadata": {},
   "outputs": [],
   "source": [
    "#dropping apps which have reviews more than 2 million.\n",
    "df=df[df['Reviews'] < 2000000]"
   ]
  },
  {
   "cell_type": "code",
   "execution_count": 41,
   "id": "9e042698",
   "metadata": {},
   "outputs": [
    {
     "data": {
      "text/plain": [
       "(8885, 13)"
      ]
     },
     "execution_count": 41,
     "metadata": {},
     "output_type": "execute_result"
    }
   ],
   "source": [
    "df.shape"
   ]
  },
  {
   "cell_type": "code",
   "execution_count": 42,
   "id": "26e0cfa2",
   "metadata": {},
   "outputs": [
    {
     "data": {
      "text/plain": [
       "count    8.885000e+03\n",
       "mean     6.267379e+06\n",
       "std      3.539960e+07\n",
       "min      5.000000e+00\n",
       "25%      1.000000e+04\n",
       "50%      5.000000e+05\n",
       "75%      5.000000e+06\n",
       "max      1.000000e+09\n",
       "Name: Installs, dtype: float64"
      ]
     },
     "execution_count": 42,
     "metadata": {},
     "output_type": "execute_result"
    }
   ],
   "source": [
    "df['Installs'].describe().round(2)"
   ]
  },
  {
   "cell_type": "code",
   "execution_count": 43,
   "id": "e1ba13d1",
   "metadata": {},
   "outputs": [
    {
     "data": {
      "text/plain": [
       "0.10         1000.0\n",
       "0.20        10000.0\n",
       "0.60      1000000.0\n",
       "0.99    100000000.0\n",
       "Name: Installs, dtype: float64"
      ]
     },
     "execution_count": 43,
     "metadata": {},
     "output_type": "execute_result"
    }
   ],
   "source": [
    "df['Installs'].quantile([.1,.2,.60,.99])"
   ]
  },
  {
   "cell_type": "code",
   "execution_count": 44,
   "id": "9db371ba",
   "metadata": {},
   "outputs": [],
   "source": [
    "#observations:\n",
    "    #10% have 1000 installs or lower "
   ]
  },
  {
   "cell_type": "code",
   "execution_count": 45,
   "id": "f813dac7",
   "metadata": {},
   "outputs": [],
   "source": [
    "#only 1% of apps have more than 100 Million installs: these are not representavtive of the general apps in the appstore"
   ]
  },
  {
   "cell_type": "code",
   "execution_count": 46,
   "id": "b19fc37f",
   "metadata": {},
   "outputs": [],
   "source": [
    "df=df[df['Installs'] < 1000000000]"
   ]
  },
  {
   "cell_type": "code",
   "execution_count": 47,
   "id": "09fe36bc",
   "metadata": {},
   "outputs": [
    {
     "data": {
      "text/plain": [
       "(8879, 13)"
      ]
     },
     "execution_count": 47,
     "metadata": {},
     "output_type": "execute_result"
    }
   ],
   "source": [
    "df.shape"
   ]
  },
  {
   "cell_type": "markdown",
   "id": "045ab71a",
   "metadata": {},
   "source": [
    "# BIVARIATE ANALYSIS"
   ]
  },
  {
   "cell_type": "code",
   "execution_count": 48,
   "id": "efb7a451",
   "metadata": {},
   "outputs": [
    {
     "data": {
      "text/plain": [
       "<seaborn.axisgrid.PairGrid at 0x16033aca8e0>"
      ]
     },
     "execution_count": 48,
     "metadata": {},
     "output_type": "execute_result"
    },
    {
     "data": {
      "image/png": "[encoded data removed]",
      "text/plain": [
       "<Figure size 900x900 with 20 Axes>"
      ]
     },
     "metadata": {},
     "output_type": "display_data"
    }
   ],
   "source": [
    "sns.pairplot(data=df,corner='True',diag_kind='kde')"
   ]
  },
  {
   "cell_type": "code",
   "execution_count": 49,
   "id": "d27141b1",
   "metadata": {},
   "outputs": [],
   "source": [
    "#There should be no correlation between independent variables."
   ]
  },
  {
   "cell_type": "code",
   "execution_count": 50,
   "id": "5559d09d",
   "metadata": {},
   "outputs": [
    {
     "data": {
      "image/png": "[encoded data removed]",
      "text/plain": [
       "<Figure size 1800x1200 with 1 Axes>"
      ]
     },
     "metadata": {},
     "output_type": "display_data"
    }
   ],
   "source": [
    "plt.figure(figsize=(12,8),dpi=150)\n",
    "sns.boxplot(data=df,x='Category',y='Rating')\n",
    "plt.xticks(rotation=90);"
   ]
  },
  {
   "cell_type": "markdown",
   "id": "9e5496c3",
   "metadata": {},
   "source": [
    "# DATA TRANSFORMATION"
   ]
  },
  {
   "cell_type": "raw",
   "id": "914f9483",
   "metadata": {},
   "source": [
    "Reviews and installs have values relatively high,therefore do log transformation when we have relatively high values;before building linear regression model"
   ]
  },
  {
   "cell_type": "code",
   "execution_count": 51,
   "id": "7581ec64",
   "metadata": {},
   "outputs": [
    {
     "data": {
      "text/plain": [
       "<AxesSubplot:xlabel='Installs'>"
      ]
     },
     "execution_count": 51,
     "metadata": {},
     "output_type": "execute_result"
    },
    {
     "data": {
      "image/png": "[encoded data removed]",
      "text/plain": [
       "<Figure size 432x288 with 1 Axes>"
      ]
     },
     "metadata": {},
     "output_type": "display_data"
    }
   ],
   "source": [
    "sns.boxplot(data=df,x='Installs')"
   ]
  },
  {
   "cell_type": "code",
   "execution_count": 52,
   "id": "67a8502a",
   "metadata": {},
   "outputs": [],
   "source": [
    "# we will do log transformation to the installs column as the number is millions.\n",
    "df1=df.copy()"
   ]
  },
  {
   "cell_type": "code",
   "execution_count": 53,
   "id": "d56209f9",
   "metadata": {},
   "outputs": [],
   "source": [
    "df1['Installs']=df1['Installs'].apply(np.log1p)\n",
    "df1['Reviews']=df1['Reviews'].apply(np.log1p)"
   ]
  },
  {
   "cell_type": "code",
   "execution_count": 54,
   "id": "afc5e6e9",
   "metadata": {},
   "outputs": [
    {
     "data": {
      "text/plain": [
       "<AxesSubplot:xlabel='Installs'>"
      ]
     },
     "execution_count": 54,
     "metadata": {},
     "output_type": "execute_result"
    },
    {
     "data": {
      "image/png": "[encoded data removed]",
      "text/plain": [
       "<Figure size 432x288 with 1 Axes>"
      ]
     },
     "metadata": {},
     "output_type": "display_data"
    }
   ],
   "source": [
    "sns.boxplot(data=df1,x='Installs')"
   ]
  },
  {
   "cell_type": "code",
   "execution_count": 55,
   "id": "23721b17",
   "metadata": {},
   "outputs": [
    {
     "data": {
      "text/plain": [
       "<AxesSubplot:xlabel='Reviews', ylabel='Density'>"
      ]
     },
     "execution_count": 55,
     "metadata": {},
     "output_type": "execute_result"
    },
    {
     "data": {
      "image/png": "[encoded data removed]",
      "text/plain": [
       "<Figure size 432x288 with 1 Axes>"
      ]
     },
     "metadata": {},
     "output_type": "display_data"
    }
   ],
   "source": [
    "sns.kdeplot(data=df1,x='Reviews')"
   ]
  },
  {
   "cell_type": "code",
   "execution_count": 56,
   "id": "bb1494fc",
   "metadata": {},
   "outputs": [
    {
     "data": {
      "text/plain": [
       "<AxesSubplot:xlabel='Reviews', ylabel='Density'>"
      ]
     },
     "execution_count": 56,
     "metadata": {},
     "output_type": "execute_result"
    },
    {
     "data": {
      "image/png": "[encoded data removed]",
      "text/plain": [
       "<Figure size 432x288 with 1 Axes>"
      ]
     },
     "metadata": {},
     "output_type": "display_data"
    }
   ],
   "source": [
    "sns.kdeplot(data=df,x='Reviews')"
   ]
  },
  {
   "cell_type": "markdown",
   "id": "00f766e3",
   "metadata": {},
   "source": [
    "if we compare the above graphs, we find skewness without log transformation"
   ]
  },
  {
   "cell_type": "code",
   "execution_count": 57,
   "id": "c44ff993",
   "metadata": {},
   "outputs": [
    {
     "data": {
      "text/html": [
       "<div>\n",
       "<style scoped>\n",
       "    .dataframe tbody tr th:only-of-type {\n",
       "        vertical-align: middle;\n",
       "    }\n",
       "\n",
       "    .dataframe tbody tr th {\n",
       "        vertical-align: top;\n",
       "    }\n",
       "\n",
       "    .dataframe thead th {\n",
       "        text-align: right;\n",
       "    }\n",
       "</style>\n",
       "<table border=\"1\" class=\"dataframe\">\n",
       "  <thead>\n",
       "    <tr style=\"text-align: right;\">\n",
       "      <th></th>\n",
       "      <th>App</th>\n",
       "      <th>Category</th>\n",
       "      <th>Rating</th>\n",
       "      <th>Reviews</th>\n",
       "      <th>Size</th>\n",
       "      <th>Installs</th>\n",
       "      <th>Type</th>\n",
       "      <th>Price</th>\n",
       "      <th>Content_Rating</th>\n",
       "      <th>Genres</th>\n",
       "      <th>Last Updated</th>\n",
       "      <th>Current Ver</th>\n",
       "      <th>Android Ver</th>\n",
       "    </tr>\n",
       "  </thead>\n",
       "  <tbody>\n",
       "    <tr>\n",
       "      <th>0</th>\n",
       "      <td>Photo Editor &amp; Candy Camera &amp; Grid &amp; ScrapBook</td>\n",
       "      <td>ART_AND_DESIGN</td>\n",
       "      <td>4.1</td>\n",
       "      <td>5.075174</td>\n",
       "      <td>19000.0</td>\n",
       "      <td>9.210440</td>\n",
       "      <td>Free</td>\n",
       "      <td>0.0</td>\n",
       "      <td>Everyone</td>\n",
       "      <td>Art_&amp;_Design</td>\n",
       "      <td>January 7, 2018</td>\n",
       "      <td>1.0.0</td>\n",
       "      <td>4.0.3 and up</td>\n",
       "    </tr>\n",
       "    <tr>\n",
       "      <th>1</th>\n",
       "      <td>Coloring book moana</td>\n",
       "      <td>ART_AND_DESIGN</td>\n",
       "      <td>3.9</td>\n",
       "      <td>6.875232</td>\n",
       "      <td>14000.0</td>\n",
       "      <td>13.122365</td>\n",
       "      <td>Free</td>\n",
       "      <td>0.0</td>\n",
       "      <td>Everyone</td>\n",
       "      <td>Art_&amp;_Design_Pretend_Play</td>\n",
       "      <td>January 15, 2018</td>\n",
       "      <td>2.0.0</td>\n",
       "      <td>4.0.3 and up</td>\n",
       "    </tr>\n",
       "    <tr>\n",
       "      <th>2</th>\n",
       "      <td>U Launcher Lite – FREE Live Cool Themes, Hide ...</td>\n",
       "      <td>ART_AND_DESIGN</td>\n",
       "      <td>4.7</td>\n",
       "      <td>11.379520</td>\n",
       "      <td>8700.0</td>\n",
       "      <td>15.424949</td>\n",
       "      <td>Free</td>\n",
       "      <td>0.0</td>\n",
       "      <td>Everyone</td>\n",
       "      <td>Art_&amp;_Design</td>\n",
       "      <td>August 1, 2018</td>\n",
       "      <td>1.2.4</td>\n",
       "      <td>4.0.3 and up</td>\n",
       "    </tr>\n",
       "    <tr>\n",
       "      <th>3</th>\n",
       "      <td>Sketch - Draw &amp; Paint</td>\n",
       "      <td>ART_AND_DESIGN</td>\n",
       "      <td>4.5</td>\n",
       "      <td>12.281389</td>\n",
       "      <td>25000.0</td>\n",
       "      <td>17.727534</td>\n",
       "      <td>Free</td>\n",
       "      <td>0.0</td>\n",
       "      <td>Teen</td>\n",
       "      <td>Art_&amp;_Design</td>\n",
       "      <td>June 8, 2018</td>\n",
       "      <td>Varies with device</td>\n",
       "      <td>4.2 and up</td>\n",
       "    </tr>\n",
       "    <tr>\n",
       "      <th>4</th>\n",
       "      <td>Pixel Draw - Number Art Coloring Book</td>\n",
       "      <td>ART_AND_DESIGN</td>\n",
       "      <td>4.3</td>\n",
       "      <td>6.875232</td>\n",
       "      <td>2800.0</td>\n",
       "      <td>11.512935</td>\n",
       "      <td>Free</td>\n",
       "      <td>0.0</td>\n",
       "      <td>Everyone</td>\n",
       "      <td>Art_&amp;_Design_Creativity</td>\n",
       "      <td>June 20, 2018</td>\n",
       "      <td>1.1</td>\n",
       "      <td>4.4 and up</td>\n",
       "    </tr>\n",
       "  </tbody>\n",
       "</table>\n",
       "</div>"
      ],
      "text/plain": [
       "                                                 App        Category  Rating  \\\n",
       "0     Photo Editor & Candy Camera & Grid & ScrapBook  ART_AND_DESIGN     4.1   \n",
       "1                                Coloring book moana  ART_AND_DESIGN     3.9   \n",
       "2  U Launcher Lite – FREE Live Cool Themes, Hide ...  ART_AND_DESIGN     4.7   \n",
       "3                              Sketch - Draw & Paint  ART_AND_DESIGN     4.5   \n",
       "4              Pixel Draw - Number Art Coloring Book  ART_AND_DESIGN     4.3   \n",
       "\n",
       "     Reviews     Size   Installs  Type  Price Content_Rating  \\\n",
       "0   5.075174  19000.0   9.210440  Free    0.0       Everyone   \n",
       "1   6.875232  14000.0  13.122365  Free    0.0       Everyone   \n",
       "2  11.379520   8700.0  15.424949  Free    0.0       Everyone   \n",
       "3  12.281389  25000.0  17.727534  Free    0.0           Teen   \n",
       "4   6.875232   2800.0  11.512935  Free    0.0       Everyone   \n",
       "\n",
       "                      Genres      Last Updated         Current Ver  \\\n",
       "0               Art_&_Design   January 7, 2018               1.0.0   \n",
       "1  Art_&_Design_Pretend_Play  January 15, 2018               2.0.0   \n",
       "2               Art_&_Design    August 1, 2018               1.2.4   \n",
       "3               Art_&_Design      June 8, 2018  Varies with device   \n",
       "4    Art_&_Design_Creativity     June 20, 2018                 1.1   \n",
       "\n",
       "    Android Ver  \n",
       "0  4.0.3 and up  \n",
       "1  4.0.3 and up  \n",
       "2  4.0.3 and up  \n",
       "3    4.2 and up  \n",
       "4    4.4 and up  "
      ]
     },
     "execution_count": 57,
     "metadata": {},
     "output_type": "execute_result"
    }
   ],
   "source": [
    "df1.head()"
   ]
  },
  {
   "cell_type": "code",
   "execution_count": 58,
   "id": "703128ed",
   "metadata": {},
   "outputs": [
    {
     "data": {
      "text/plain": [
       "Index(['App', 'Category', 'Rating', 'Reviews', 'Size', 'Installs', 'Type',\n",
       "       'Price', 'Content_Rating', 'Genres', 'Last Updated', 'Current Ver',\n",
       "       'Android Ver'],\n",
       "      dtype='object')"
      ]
     },
     "execution_count": 58,
     "metadata": {},
     "output_type": "execute_result"
    }
   ],
   "source": [
    "df1.columns"
   ]
  },
  {
   "cell_type": "code",
   "execution_count": 59,
   "id": "f96d9793",
   "metadata": {},
   "outputs": [],
   "source": [
    "#Dropping the columns which are not useful for predictions\n",
    "df1.drop(['App','Last Updated', 'Current Ver',\n",
    "       'Android Ver'],axis=1,inplace=True)"
   ]
  },
  {
   "cell_type": "code",
   "execution_count": 60,
   "id": "1864d1f0",
   "metadata": {},
   "outputs": [
    {
     "data": {
      "text/plain": [
       "(8879, 9)"
      ]
     },
     "execution_count": 60,
     "metadata": {},
     "output_type": "execute_result"
    }
   ],
   "source": [
    "df1.shape"
   ]
  },
  {
   "cell_type": "markdown",
   "id": "cd3dfed7",
   "metadata": {},
   "source": [
    "# Categorical Encoding"
   ]
  },
  {
   "cell_type": "code",
   "execution_count": 61,
   "id": "1821526e",
   "metadata": {},
   "outputs": [],
   "source": [
    "df2=pd.get_dummies(df1,drop_first=True)"
   ]
  },
  {
   "cell_type": "code",
   "execution_count": 62,
   "id": "54374ca9",
   "metadata": {},
   "outputs": [
    {
     "data": {
      "text/plain": [
       "Index(['Rating', 'Reviews', 'Size', 'Installs', 'Price',\n",
       "       'Category_AUTO_AND_VEHICLES', 'Category_BEAUTY',\n",
       "       'Category_BOOKS_AND_REFERENCE', 'Category_BUSINESS', 'Category_COMICS',\n",
       "       ...\n",
       "       'Genres_Tools', 'Genres_Tools_Education', 'Genres_Travel_&_Local',\n",
       "       'Genres_Travel_&_Local_Action_&_Adventure', 'Genres_Trivia',\n",
       "       'Genres_Video_Players_&_Editors',\n",
       "       'Genres_Video_Players_&_Editors_Creativity',\n",
       "       'Genres_Video_Players_&_Editors_Music_&_Video', 'Genres_Weather',\n",
       "       'Genres_Word'],\n",
       "      dtype='object', length=157)"
      ]
     },
     "execution_count": 62,
     "metadata": {},
     "output_type": "execute_result"
    }
   ],
   "source": [
    "df2.columns"
   ]
  },
  {
   "cell_type": "code",
   "execution_count": 63,
   "id": "6a7b68b9",
   "metadata": {},
   "outputs": [],
   "source": [
    "#from  sklearn.preprocessing import LabelEncoder\n",
    "#le=labelencoder()\n",
    "#df1['category']=le.fit_transform(df1['category'])"
   ]
  },
  {
   "cell_type": "code",
   "execution_count": 64,
   "id": "13da27c9",
   "metadata": {},
   "outputs": [],
   "source": [
    "X=df2.drop('Rating',axis=1)\n",
    "y=df2['Rating']"
   ]
  },
  {
   "cell_type": "code",
   "execution_count": 65,
   "id": "4034487d",
   "metadata": {},
   "outputs": [],
   "source": [
    "from sklearn.model_selection import train_test_split\n",
    "X_train, X_test, y_train, y_test = train_test_split(X, y, test_size=0.3, random_state=100)"
   ]
  },
  {
   "cell_type": "code",
   "execution_count": 66,
   "id": "21c6db43",
   "metadata": {},
   "outputs": [],
   "source": [
    "from statsmodels.api import OLS"
   ]
  },
  {
   "cell_type": "code",
   "execution_count": 67,
   "id": "4b27fdb0",
   "metadata": {},
   "outputs": [],
   "source": [
    "model=OLS(y_train,X_train).fit()"
   ]
  },
  {
   "cell_type": "code",
   "execution_count": 68,
   "id": "361cb998",
   "metadata": {},
   "outputs": [],
   "source": [
    "#what is the purpose of training:to find the Beta coefficients"
   ]
  },
  {
   "cell_type": "code",
   "execution_count": 69,
   "id": "035c2c8e",
   "metadata": {},
   "outputs": [
    {
     "data": {
      "text/html": [
       "<table class=\"simpletable\">\n",
       "<caption>OLS Regression Results</caption>\n",
       "<tr>\n",
       "  <th>Dep. Variable:</th>         <td>Rating</td>      <th>  R-squared (uncentered):</th>      <td>   0.987</td>\n",
       "</tr>\n",
       "<tr>\n",
       "  <th>Model:</th>                   <td>OLS</td>       <th>  Adj. R-squared (uncentered):</th> <td>   0.987</td>\n",
       "</tr>\n",
       "<tr>\n",
       "  <th>Method:</th>             <td>Least Squares</td>  <th>  F-statistic:       </th>          <td>   3717.</td>\n",
       "</tr>\n",
       "<tr>\n",
       "  <th>Date:</th>             <td>Mon, 16 Jan 2023</td> <th>  Prob (F-statistic):</th>           <td>  0.00</td> \n",
       "</tr>\n",
       "<tr>\n",
       "  <th>Time:</th>                 <td>18:22:38</td>     <th>  Log-Likelihood:    </th>          <td> -4281.6</td>\n",
       "</tr>\n",
       "<tr>\n",
       "  <th>No. Observations:</th>      <td>  6215</td>      <th>  AIC:               </th>          <td>   8811.</td>\n",
       "</tr>\n",
       "<tr>\n",
       "  <th>Df Residuals:</th>          <td>  6091</td>      <th>  BIC:               </th>          <td>   9646.</td>\n",
       "</tr>\n",
       "<tr>\n",
       "  <th>Df Model:</th>              <td>   124</td>      <th>                     </th>              <td> </td>   \n",
       "</tr>\n",
       "<tr>\n",
       "  <th>Covariance Type:</th>      <td>nonrobust</td>    <th>                     </th>              <td> </td>   \n",
       "</tr>\n",
       "</table>\n",
       "<table class=\"simpletable\">\n",
       "<tr>\n",
       "                        <td></td>                          <th>coef</th>     <th>std err</th>      <th>t</th>      <th>P>|t|</th>  <th>[0.025</th>    <th>0.975]</th>  \n",
       "</tr>\n",
       "<tr>\n",
       "  <th>Reviews</th>                                      <td>    0.1752</td> <td>    0.006</td> <td>   28.058</td> <td> 0.000</td> <td>    0.163</td> <td>    0.187</td>\n",
       "</tr>\n",
       "<tr>\n",
       "  <th>Size</th>                                         <td>-3.201e-07</td> <td> 3.59e-07</td> <td>   -0.892</td> <td> 0.372</td> <td>-1.02e-06</td> <td> 3.83e-07</td>\n",
       "</tr>\n",
       "<tr>\n",
       "  <th>Installs</th>                                     <td>   -0.1499</td> <td>    0.006</td> <td>  -24.185</td> <td> 0.000</td> <td>   -0.162</td> <td>   -0.138</td>\n",
       "</tr>\n",
       "<tr>\n",
       "  <th>Price</th>                                        <td>    0.0006</td> <td>    0.003</td> <td>    0.180</td> <td> 0.857</td> <td>   -0.006</td> <td>    0.007</td>\n",
       "</tr>\n",
       "<tr>\n",
       "  <th>Category_AUTO_AND_VEHICLES</th>                   <td>    1.6384</td> <td>    0.125</td> <td>   13.138</td> <td> 0.000</td> <td>    1.394</td> <td>    1.883</td>\n",
       "</tr>\n",
       "<tr>\n",
       "  <th>Category_BEAUTY</th>                              <td>    1.7217</td> <td>    0.128</td> <td>   13.464</td> <td> 0.000</td> <td>    1.471</td> <td>    1.972</td>\n",
       "</tr>\n",
       "<tr>\n",
       "  <th>Category_BOOKS_AND_REFERENCE</th>                 <td>    1.6847</td> <td>    0.122</td> <td>   13.829</td> <td> 0.000</td> <td>    1.446</td> <td>    1.923</td>\n",
       "</tr>\n",
       "<tr>\n",
       "  <th>Category_BUSINESS</th>                            <td>    1.6048</td> <td>    0.121</td> <td>   13.274</td> <td> 0.000</td> <td>    1.368</td> <td>    1.842</td>\n",
       "</tr>\n",
       "<tr>\n",
       "  <th>Category_COMICS</th>                              <td>    2.3788</td> <td>    0.226</td> <td>   10.518</td> <td> 0.000</td> <td>    1.935</td> <td>    2.822</td>\n",
       "</tr>\n",
       "<tr>\n",
       "  <th>Category_COMMUNICATION</th>                       <td>    1.5481</td> <td>    0.121</td> <td>   12.767</td> <td> 0.000</td> <td>    1.310</td> <td>    1.786</td>\n",
       "</tr>\n",
       "<tr>\n",
       "  <th>Category_DATING</th>                              <td>    1.5017</td> <td>    0.122</td> <td>   12.265</td> <td> 0.000</td> <td>    1.262</td> <td>    1.742</td>\n",
       "</tr>\n",
       "<tr>\n",
       "  <th>Category_EDUCATION</th>                           <td>    2.8672</td> <td>    0.251</td> <td>   11.427</td> <td> 0.000</td> <td>    2.375</td> <td>    3.359</td>\n",
       "</tr>\n",
       "<tr>\n",
       "  <th>Category_ENTERTAINMENT</th>                       <td>    2.7776</td> <td>    0.251</td> <td>   11.070</td> <td> 0.000</td> <td>    2.286</td> <td>    3.269</td>\n",
       "</tr>\n",
       "<tr>\n",
       "  <th>Category_EVENTS</th>                              <td>    1.7449</td> <td>    0.126</td> <td>   13.794</td> <td> 0.000</td> <td>    1.497</td> <td>    1.993</td>\n",
       "</tr>\n",
       "<tr>\n",
       "  <th>Category_FAMILY</th>                              <td>    2.9012</td> <td>    0.243</td> <td>   11.926</td> <td> 0.000</td> <td>    2.424</td> <td>    3.378</td>\n",
       "</tr>\n",
       "<tr>\n",
       "  <th>Category_FINANCE</th>                             <td>    1.5686</td> <td>    0.121</td> <td>   12.977</td> <td> 0.000</td> <td>    1.332</td> <td>    1.806</td>\n",
       "</tr>\n",
       "<tr>\n",
       "  <th>Category_FOOD_AND_DRINK</th>                      <td>    1.5996</td> <td>    0.123</td> <td>   13.008</td> <td> 0.000</td> <td>    1.358</td> <td>    1.841</td>\n",
       "</tr>\n",
       "<tr>\n",
       "  <th>Category_GAME</th>                                <td>    3.1400</td> <td>    0.241</td> <td>   13.049</td> <td> 0.000</td> <td>    2.668</td> <td>    3.612</td>\n",
       "</tr>\n",
       "<tr>\n",
       "  <th>Category_HEALTH_AND_FITNESS</th>                  <td>    1.6294</td> <td>    0.121</td> <td>   13.463</td> <td> 0.000</td> <td>    1.392</td> <td>    1.867</td>\n",
       "</tr>\n",
       "<tr>\n",
       "  <th>Category_HOUSE_AND_HOME</th>                      <td>    1.6153</td> <td>    0.124</td> <td>   13.004</td> <td> 0.000</td> <td>    1.372</td> <td>    1.859</td>\n",
       "</tr>\n",
       "<tr>\n",
       "  <th>Category_LIBRARIES_AND_DEMO</th>                  <td>    1.6543</td> <td>    0.125</td> <td>   13.249</td> <td> 0.000</td> <td>    1.410</td> <td>    1.899</td>\n",
       "</tr>\n",
       "<tr>\n",
       "  <th>Category_LIFESTYLE</th>                           <td>    1.5915</td> <td>    0.121</td> <td>   13.157</td> <td> 0.000</td> <td>    1.354</td> <td>    1.829</td>\n",
       "</tr>\n",
       "<tr>\n",
       "  <th>Category_MAPS_AND_NAVIGATION</th>                 <td>    1.5214</td> <td>    0.123</td> <td>   12.401</td> <td> 0.000</td> <td>    1.281</td> <td>    1.762</td>\n",
       "</tr>\n",
       "<tr>\n",
       "  <th>Category_MEDICAL</th>                             <td>    1.6356</td> <td>    0.121</td> <td>   13.545</td> <td> 0.000</td> <td>    1.399</td> <td>    1.872</td>\n",
       "</tr>\n",
       "<tr>\n",
       "  <th>Category_NEWS_AND_MAGAZINES</th>                  <td>    1.5641</td> <td>    0.121</td> <td>   12.899</td> <td> 0.000</td> <td>    1.326</td> <td>    1.802</td>\n",
       "</tr>\n",
       "<tr>\n",
       "  <th>Category_PARENTING</th>                           <td>    2.5357</td> <td>    0.213</td> <td>   11.917</td> <td> 0.000</td> <td>    2.119</td> <td>    2.953</td>\n",
       "</tr>\n",
       "<tr>\n",
       "  <th>Category_PERSONALIZATION</th>                     <td>    1.6777</td> <td>    0.121</td> <td>   13.869</td> <td> 0.000</td> <td>    1.441</td> <td>    1.915</td>\n",
       "</tr>\n",
       "<tr>\n",
       "  <th>Category_PHOTOGRAPHY</th>                         <td>    1.5850</td> <td>    0.121</td> <td>   13.079</td> <td> 0.000</td> <td>    1.347</td> <td>    1.823</td>\n",
       "</tr>\n",
       "<tr>\n",
       "  <th>Category_PRODUCTIVITY</th>                        <td>    1.6215</td> <td>    0.121</td> <td>   13.401</td> <td> 0.000</td> <td>    1.384</td> <td>    1.859</td>\n",
       "</tr>\n",
       "<tr>\n",
       "  <th>Category_SHOPPING</th>                            <td>    1.6089</td> <td>    0.121</td> <td>   13.246</td> <td> 0.000</td> <td>    1.371</td> <td>    1.847</td>\n",
       "</tr>\n",
       "<tr>\n",
       "  <th>Category_SOCIAL</th>                              <td>    1.6116</td> <td>    0.121</td> <td>   13.298</td> <td> 0.000</td> <td>    1.374</td> <td>    1.849</td>\n",
       "</tr>\n",
       "<tr>\n",
       "  <th>Category_SPORTS</th>                              <td>    3.0914</td> <td>    0.421</td> <td>    7.346</td> <td> 0.000</td> <td>    2.266</td> <td>    3.916</td>\n",
       "</tr>\n",
       "<tr>\n",
       "  <th>Category_TOOLS</th>                               <td>    2.1470</td> <td>    0.228</td> <td>    9.419</td> <td> 0.000</td> <td>    1.700</td> <td>    2.594</td>\n",
       "</tr>\n",
       "<tr>\n",
       "  <th>Category_TRAVEL_AND_LOCAL</th>                    <td>    2.1362</td> <td>    0.228</td> <td>    9.360</td> <td> 0.000</td> <td>    1.689</td> <td>    2.584</td>\n",
       "</tr>\n",
       "<tr>\n",
       "  <th>Category_VIDEO_PLAYERS</th>                       <td>    2.8565</td> <td>    0.644</td> <td>    4.434</td> <td> 0.000</td> <td>    1.594</td> <td>    4.119</td>\n",
       "</tr>\n",
       "<tr>\n",
       "  <th>Category_WEATHER</th>                             <td>    1.6197</td> <td>    0.125</td> <td>   13.001</td> <td> 0.000</td> <td>    1.375</td> <td>    1.864</td>\n",
       "</tr>\n",
       "<tr>\n",
       "  <th>Type_Paid</th>                                    <td>   -0.0839</td> <td>    0.032</td> <td>   -2.642</td> <td> 0.008</td> <td>   -0.146</td> <td>   -0.022</td>\n",
       "</tr>\n",
       "<tr>\n",
       "  <th>Content_Rating_Everyone</th>                      <td>    1.3859</td> <td>    0.239</td> <td>    5.808</td> <td> 0.000</td> <td>    0.918</td> <td>    1.854</td>\n",
       "</tr>\n",
       "<tr>\n",
       "  <th>Content_Rating_Everyone_10+</th>                  <td>    1.3853</td> <td>    0.240</td> <td>    5.761</td> <td> 0.000</td> <td>    0.914</td> <td>    1.857</td>\n",
       "</tr>\n",
       "<tr>\n",
       "  <th>Content_Rating_Mature_17+</th>                    <td>    1.3701</td> <td>    0.241</td> <td>    5.690</td> <td> 0.000</td> <td>    0.898</td> <td>    1.842</td>\n",
       "</tr>\n",
       "<tr>\n",
       "  <th>Content_Rating_Teen</th>                          <td>    1.3959</td> <td>    0.239</td> <td>    5.845</td> <td> 0.000</td> <td>    0.928</td> <td>    1.864</td>\n",
       "</tr>\n",
       "<tr>\n",
       "  <th>Content_Rating_Unrated</th>                       <td>    1.3442</td> <td>    0.543</td> <td>    2.478</td> <td> 0.013</td> <td>    0.281</td> <td>    2.408</td>\n",
       "</tr>\n",
       "<tr>\n",
       "  <th>Genres_Action_Action_&_Adventure</th>             <td>    0.2736</td> <td>    0.153</td> <td>    1.791</td> <td> 0.073</td> <td>   -0.026</td> <td>    0.573</td>\n",
       "</tr>\n",
       "<tr>\n",
       "  <th>Genres_Adventure</th>                             <td>   -0.0818</td> <td>    0.078</td> <td>   -1.054</td> <td> 0.292</td> <td>   -0.234</td> <td>    0.070</td>\n",
       "</tr>\n",
       "<tr>\n",
       "  <th>Genres_Adventure_Action_&_Adventure</th>          <td>    0.3243</td> <td>    0.352</td> <td>    0.921</td> <td> 0.357</td> <td>   -0.366</td> <td>    1.015</td>\n",
       "</tr>\n",
       "<tr>\n",
       "  <th>Genres_Adventure_Brain_Games</th>                 <td>    0.5685</td> <td>    0.493</td> <td>    1.153</td> <td> 0.249</td> <td>   -0.398</td> <td>    1.535</td>\n",
       "</tr>\n",
       "<tr>\n",
       "  <th>Genres_Adventure_Education</th>                   <td>    0.0555</td> <td>    0.353</td> <td>    0.157</td> <td> 0.875</td> <td>   -0.636</td> <td>    0.747</td>\n",
       "</tr>\n",
       "<tr>\n",
       "  <th>Genres_Arcade</th>                                <td>    0.0808</td> <td>    0.055</td> <td>    1.463</td> <td> 0.143</td> <td>   -0.027</td> <td>    0.189</td>\n",
       "</tr>\n",
       "<tr>\n",
       "  <th>Genres_Arcade_Action_&_Adventure</th>             <td>    0.2857</td> <td>    0.164</td> <td>    1.741</td> <td> 0.082</td> <td>   -0.036</td> <td>    0.607</td>\n",
       "</tr>\n",
       "<tr>\n",
       "  <th>Genres_Arcade_Pretend_Play</th>                   <td>    0.5482</td> <td>    0.493</td> <td>    1.112</td> <td> 0.266</td> <td>   -0.418</td> <td>    1.514</td>\n",
       "</tr>\n",
       "<tr>\n",
       "  <th>Genres_Art_&_Design</th>                          <td>    3.4668</td> <td>    0.253</td> <td>   13.713</td> <td> 0.000</td> <td>    2.971</td> <td>    3.962</td>\n",
       "</tr>\n",
       "<tr>\n",
       "  <th>Genres_Art_&_Design_Creativity</th>               <td>    2.5986</td> <td>    0.258</td> <td>   10.075</td> <td> 0.000</td> <td>    2.093</td> <td>    3.104</td>\n",
       "</tr>\n",
       "<tr>\n",
       "  <th>Genres_Art_&_Design_Pretend_Play</th>             <td>    3.2808</td> <td>    0.543</td> <td>    6.040</td> <td> 0.000</td> <td>    2.216</td> <td>    4.346</td>\n",
       "</tr>\n",
       "<tr>\n",
       "  <th>Genres_Auto_&_Vehicles</th>                       <td>    1.6384</td> <td>    0.125</td> <td>   13.138</td> <td> 0.000</td> <td>    1.394</td> <td>    1.883</td>\n",
       "</tr>\n",
       "<tr>\n",
       "  <th>Genres_Beauty</th>                                <td>    1.7217</td> <td>    0.128</td> <td>   13.464</td> <td> 0.000</td> <td>    1.471</td> <td>    1.972</td>\n",
       "</tr>\n",
       "<tr>\n",
       "  <th>Genres_Board</th>                                 <td>    0.0195</td> <td>    0.093</td> <td>    0.210</td> <td> 0.834</td> <td>   -0.163</td> <td>    0.202</td>\n",
       "</tr>\n",
       "<tr>\n",
       "  <th>Genres_Board_Action_&_Adventure</th>              <td>    0.0980</td> <td>    0.493</td> <td>    0.199</td> <td> 0.842</td> <td>   -0.868</td> <td>    1.064</td>\n",
       "</tr>\n",
       "<tr>\n",
       "  <th>Genres_Board_Brain_Games</th>                     <td>    0.4746</td> <td>    0.171</td> <td>    2.773</td> <td> 0.006</td> <td>    0.139</td> <td>    0.810</td>\n",
       "</tr>\n",
       "<tr>\n",
       "  <th>Genres_Board_Pretend_Play</th>                    <td> 1.229e-12</td> <td> 1.75e-11</td> <td>    0.070</td> <td> 0.944</td> <td>-3.31e-11</td> <td> 3.56e-11</td>\n",
       "</tr>\n",
       "<tr>\n",
       "  <th>Genres_Books_&_Reference</th>                     <td>    1.6847</td> <td>    0.122</td> <td>   13.829</td> <td> 0.000</td> <td>    1.446</td> <td>    1.923</td>\n",
       "</tr>\n",
       "<tr>\n",
       "  <th>Genres_Books_&_Reference_Education</th>           <td>    0.3077</td> <td>    0.352</td> <td>    0.874</td> <td> 0.382</td> <td>   -0.383</td> <td>    0.998</td>\n",
       "</tr>\n",
       "<tr>\n",
       "  <th>Genres_Business</th>                              <td>    1.6048</td> <td>    0.121</td> <td>   13.274</td> <td> 0.000</td> <td>    1.368</td> <td>    1.842</td>\n",
       "</tr>\n",
       "<tr>\n",
       "  <th>Genres_Card</th>                                  <td>   -0.1038</td> <td>    0.088</td> <td>   -1.182</td> <td> 0.237</td> <td>   -0.276</td> <td>    0.068</td>\n",
       "</tr>\n",
       "<tr>\n",
       "  <th>Genres_Card_Action_&_Adventure</th>               <td>    0.0719</td> <td>    0.353</td> <td>    0.204</td> <td> 0.839</td> <td>   -0.620</td> <td>    0.764</td>\n",
       "</tr>\n",
       "<tr>\n",
       "  <th>Genres_Card_Brain_Games</th>                      <td>    0.7026</td> <td>    0.492</td> <td>    1.427</td> <td> 0.154</td> <td>   -0.263</td> <td>    1.668</td>\n",
       "</tr>\n",
       "<tr>\n",
       "  <th>Genres_Casino</th>                                <td>    0.0818</td> <td>    0.097</td> <td>    0.845</td> <td> 0.398</td> <td>   -0.108</td> <td>    0.272</td>\n",
       "</tr>\n",
       "<tr>\n",
       "  <th>Genres_Casual</th>                                <td>    0.1800</td> <td>    0.082</td> <td>    2.206</td> <td> 0.027</td> <td>    0.020</td> <td>    0.340</td>\n",
       "</tr>\n",
       "<tr>\n",
       "  <th>Genres_Casual_Action_&_Adventure</th>             <td>    0.4072</td> <td>    0.159</td> <td>    2.563</td> <td> 0.010</td> <td>    0.096</td> <td>    0.719</td>\n",
       "</tr>\n",
       "<tr>\n",
       "  <th>Genres_Casual_Brain_Games</th>                    <td>    0.6550</td> <td>    0.185</td> <td>    3.543</td> <td> 0.000</td> <td>    0.293</td> <td>    1.017</td>\n",
       "</tr>\n",
       "<tr>\n",
       "  <th>Genres_Casual_Creativity</th>                     <td>    0.3371</td> <td>    0.227</td> <td>    1.487</td> <td> 0.137</td> <td>   -0.107</td> <td>    0.782</td>\n",
       "</tr>\n",
       "<tr>\n",
       "  <th>Genres_Casual_Education</th>                      <td>    0.3833</td> <td>    0.352</td> <td>    1.088</td> <td> 0.277</td> <td>   -0.307</td> <td>    1.074</td>\n",
       "</tr>\n",
       "<tr>\n",
       "  <th>Genres_Casual_Music_&_Video</th>                  <td>    0.3872</td> <td>    0.493</td> <td>    0.786</td> <td> 0.432</td> <td>   -0.579</td> <td>    1.353</td>\n",
       "</tr>\n",
       "<tr>\n",
       "  <th>Genres_Casual_Pretend_Play</th>                   <td>    0.2670</td> <td>    0.126</td> <td>    2.117</td> <td> 0.034</td> <td>    0.020</td> <td>    0.514</td>\n",
       "</tr>\n",
       "<tr>\n",
       "  <th>Genres_Comics</th>                                <td>    0.8127</td> <td>    0.185</td> <td>    4.384</td> <td> 0.000</td> <td>    0.449</td> <td>    1.176</td>\n",
       "</tr>\n",
       "<tr>\n",
       "  <th>Genres_Comics_Creativity</th>                     <td>    1.5662</td> <td>    0.337</td> <td>    4.654</td> <td> 0.000</td> <td>    0.906</td> <td>    2.226</td>\n",
       "</tr>\n",
       "<tr>\n",
       "  <th>Genres_Communication</th>                         <td>    1.5481</td> <td>    0.121</td> <td>   12.767</td> <td> 0.000</td> <td>    1.310</td> <td>    1.786</td>\n",
       "</tr>\n",
       "<tr>\n",
       "  <th>Genres_Communication_Creativity</th>              <td>    0.4556</td> <td>    0.493</td> <td>    0.925</td> <td> 0.355</td> <td>   -0.510</td> <td>    1.421</td>\n",
       "</tr>\n",
       "<tr>\n",
       "  <th>Genres_Dating</th>                                <td>    1.5017</td> <td>    0.122</td> <td>   12.265</td> <td> 0.000</td> <td>    1.262</td> <td>    1.742</td>\n",
       "</tr>\n",
       "<tr>\n",
       "  <th>Genres_Education</th>                             <td>    0.4790</td> <td>    0.080</td> <td>    5.956</td> <td> 0.000</td> <td>    0.321</td> <td>    0.637</td>\n",
       "</tr>\n",
       "<tr>\n",
       "  <th>Genres_Education_Action_&_Adventure</th>          <td>    0.8235</td> <td>    0.292</td> <td>    2.823</td> <td> 0.005</td> <td>    0.252</td> <td>    1.396</td>\n",
       "</tr>\n",
       "<tr>\n",
       "  <th>Genres_Education_Brain_Games</th>                 <td>    0.3526</td> <td>    0.293</td> <td>    1.202</td> <td> 0.229</td> <td>   -0.222</td> <td>    0.928</td>\n",
       "</tr>\n",
       "<tr>\n",
       "  <th>Genres_Education_Creativity</th>                  <td>    0.7756</td> <td>    0.232</td> <td>    3.348</td> <td> 0.001</td> <td>    0.321</td> <td>    1.230</td>\n",
       "</tr>\n",
       "<tr>\n",
       "  <th>Genres_Education_Education</th>                   <td>    0.5621</td> <td>    0.115</td> <td>    4.886</td> <td> 0.000</td> <td>    0.337</td> <td>    0.788</td>\n",
       "</tr>\n",
       "<tr>\n",
       "  <th>Genres_Education_Music_&_Video</th>               <td>    0.3903</td> <td>    0.493</td> <td>    0.792</td> <td> 0.428</td> <td>   -0.575</td> <td>    1.356</td>\n",
       "</tr>\n",
       "<tr>\n",
       "  <th>Genres_Education_Pretend_Play</th>                <td>    0.5617</td> <td>    0.133</td> <td>    4.231</td> <td> 0.000</td> <td>    0.301</td> <td>    0.822</td>\n",
       "</tr>\n",
       "<tr>\n",
       "  <th>Genres_Educational</th>                           <td>    0.0137</td> <td>    0.125</td> <td>    0.110</td> <td> 0.913</td> <td>   -0.231</td> <td>    0.259</td>\n",
       "</tr>\n",
       "<tr>\n",
       "  <th>Genres_Educational_Action_&_Adventure</th>        <td>    0.3502</td> <td>    0.255</td> <td>    1.375</td> <td> 0.169</td> <td>   -0.149</td> <td>    0.849</td>\n",
       "</tr>\n",
       "<tr>\n",
       "  <th>Genres_Educational_Brain_Games</th>               <td>    0.4413</td> <td>    0.255</td> <td>    1.733</td> <td> 0.083</td> <td>   -0.058</td> <td>    0.941</td>\n",
       "</tr>\n",
       "<tr>\n",
       "  <th>Genres_Educational_Creativity</th>                <td>    0.2077</td> <td>    0.291</td> <td>    0.713</td> <td> 0.476</td> <td>   -0.364</td> <td>    0.779</td>\n",
       "</tr>\n",
       "<tr>\n",
       "  <th>Genres_Educational_Education</th>                 <td>    0.4512</td> <td>    0.118</td> <td>    3.811</td> <td> 0.000</td> <td>    0.219</td> <td>    0.683</td>\n",
       "</tr>\n",
       "<tr>\n",
       "  <th>Genres_Educational_Pretend_Play</th>              <td>    0.3583</td> <td>    0.150</td> <td>    2.389</td> <td> 0.017</td> <td>    0.064</td> <td>    0.652</td>\n",
       "</tr>\n",
       "<tr>\n",
       "  <th>Genres_Entertainment</th>                         <td>    0.2587</td> <td>    0.079</td> <td>    3.264</td> <td> 0.001</td> <td>    0.103</td> <td>    0.414</td>\n",
       "</tr>\n",
       "<tr>\n",
       "  <th>Genres_Entertainment_Action_&_Adventure</th>      <td>    0.3650</td> <td>    0.291</td> <td>    1.255</td> <td> 0.210</td> <td>   -0.205</td> <td>    0.935</td>\n",
       "</tr>\n",
       "<tr>\n",
       "  <th>Genres_Entertainment_Brain_Games</th>             <td>    0.4462</td> <td>    0.199</td> <td>    2.238</td> <td> 0.025</td> <td>    0.055</td> <td>    0.837</td>\n",
       "</tr>\n",
       "<tr>\n",
       "  <th>Genres_Entertainment_Creativity</th>              <td>    0.7070</td> <td>    0.354</td> <td>    1.999</td> <td> 0.046</td> <td>    0.014</td> <td>    1.400</td>\n",
       "</tr>\n",
       "<tr>\n",
       "  <th>Genres_Entertainment_Education</th>               <td>    0.6278</td> <td>    0.493</td> <td>    1.275</td> <td> 0.202</td> <td>   -0.338</td> <td>    1.593</td>\n",
       "</tr>\n",
       "<tr>\n",
       "  <th>Genres_Entertainment_Music_&_Video</th>           <td>    0.3975</td> <td>    0.155</td> <td>    2.570</td> <td> 0.010</td> <td>    0.094</td> <td>    0.701</td>\n",
       "</tr>\n",
       "<tr>\n",
       "  <th>Genres_Entertainment_Pretend_Play</th>            <td>    0.0029</td> <td>    0.352</td> <td>    0.008</td> <td> 0.994</td> <td>   -0.688</td> <td>    0.693</td>\n",
       "</tr>\n",
       "<tr>\n",
       "  <th>Genres_Events</th>                                <td>    1.7449</td> <td>    0.126</td> <td>   13.794</td> <td> 0.000</td> <td>    1.497</td> <td>    1.993</td>\n",
       "</tr>\n",
       "<tr>\n",
       "  <th>Genres_Finance</th>                               <td>    1.5686</td> <td>    0.121</td> <td>   12.977</td> <td> 0.000</td> <td>    1.332</td> <td>    1.806</td>\n",
       "</tr>\n",
       "<tr>\n",
       "  <th>Genres_Food_&_Drink</th>                          <td>    1.5996</td> <td>    0.123</td> <td>   13.008</td> <td> 0.000</td> <td>    1.358</td> <td>    1.841</td>\n",
       "</tr>\n",
       "<tr>\n",
       "  <th>Genres_Health_&_Fitness</th>                      <td>    1.6294</td> <td>    0.121</td> <td>   13.463</td> <td> 0.000</td> <td>    1.392</td> <td>    1.867</td>\n",
       "</tr>\n",
       "<tr>\n",
       "  <th>Genres_Health_&_Fitness_Action_&_Adventure</th>   <td>   -0.1020</td> <td>    0.493</td> <td>   -0.207</td> <td> 0.836</td> <td>   -1.068</td> <td>    0.864</td>\n",
       "</tr>\n",
       "<tr>\n",
       "  <th>Genres_Health_&_Fitness_Education</th>            <td>    0.5451</td> <td>    0.492</td> <td>    1.107</td> <td> 0.268</td> <td>   -0.420</td> <td>    1.511</td>\n",
       "</tr>\n",
       "<tr>\n",
       "  <th>Genres_House_&_Home</th>                          <td>    1.6153</td> <td>    0.124</td> <td>   13.004</td> <td> 0.000</td> <td>    1.372</td> <td>    1.859</td>\n",
       "</tr>\n",
       "<tr>\n",
       "  <th>Genres_Libraries_&_Demo</th>                      <td>    1.6543</td> <td>    0.125</td> <td>   13.249</td> <td> 0.000</td> <td>    1.410</td> <td>    1.899</td>\n",
       "</tr>\n",
       "<tr>\n",
       "  <th>Genres_Lifestyle</th>                             <td>    1.5915</td> <td>    0.121</td> <td>   13.157</td> <td> 0.000</td> <td>    1.354</td> <td>    1.829</td>\n",
       "</tr>\n",
       "<tr>\n",
       "  <th>Genres_Lifestyle_Education</th>                   <td> -4.98e-13</td> <td> 1.72e-12</td> <td>   -0.289</td> <td> 0.773</td> <td>-3.88e-12</td> <td> 2.88e-12</td>\n",
       "</tr>\n",
       "<tr>\n",
       "  <th>Genres_Lifestyle_Pretend_Play</th>                <td>-1.959e-13</td> <td> 2.41e-12</td> <td>   -0.081</td> <td> 0.935</td> <td>-4.91e-12</td> <td> 4.52e-12</td>\n",
       "</tr>\n",
       "<tr>\n",
       "  <th>Genres_Maps_&_Navigation</th>                     <td>    1.5214</td> <td>    0.123</td> <td>   12.401</td> <td> 0.000</td> <td>    1.281</td> <td>    1.762</td>\n",
       "</tr>\n",
       "<tr>\n",
       "  <th>Genres_Medical</th>                               <td>    1.6356</td> <td>    0.121</td> <td>   13.545</td> <td> 0.000</td> <td>    1.399</td> <td>    1.872</td>\n",
       "</tr>\n",
       "<tr>\n",
       "  <th>Genres_Music</th>                                 <td>   -0.0519</td> <td>    0.134</td> <td>   -0.386</td> <td> 0.700</td> <td>   -0.316</td> <td>    0.212</td>\n",
       "</tr>\n",
       "<tr>\n",
       "  <th>Genres_Music_&_Audio_Music_&_Video</th>           <td>    0.7175</td> <td>    0.493</td> <td>    1.456</td> <td> 0.145</td> <td>   -0.248</td> <td>    1.683</td>\n",
       "</tr>\n",
       "<tr>\n",
       "  <th>Genres_Music_Music_&_Video</th>                   <td>    0.7615</td> <td>    0.352</td> <td>    2.162</td> <td> 0.031</td> <td>    0.071</td> <td>    1.452</td>\n",
       "</tr>\n",
       "<tr>\n",
       "  <th>Genres_News_&_Magazines</th>                      <td>    1.5641</td> <td>    0.121</td> <td>   12.899</td> <td> 0.000</td> <td>    1.326</td> <td>    1.802</td>\n",
       "</tr>\n",
       "<tr>\n",
       "  <th>Genres_Parenting</th>                             <td>    0.8855</td> <td>    0.142</td> <td>    6.229</td> <td> 0.000</td> <td>    0.607</td> <td>    1.164</td>\n",
       "</tr>\n",
       "<tr>\n",
       "  <th>Genres_Parenting_Brain_Games</th>                 <td>-2.336e-14</td> <td> 6.69e-13</td> <td>   -0.035</td> <td> 0.972</td> <td>-1.33e-12</td> <td> 1.29e-12</td>\n",
       "</tr>\n",
       "<tr>\n",
       "  <th>Genres_Parenting_Education</th>                   <td>    0.6848</td> <td>    0.275</td> <td>    2.487</td> <td> 0.013</td> <td>    0.145</td> <td>    1.224</td>\n",
       "</tr>\n",
       "<tr>\n",
       "  <th>Genres_Parenting_Music_&_Video</th>               <td>    0.9654</td> <td>    0.236</td> <td>    4.082</td> <td> 0.000</td> <td>    0.502</td> <td>    1.429</td>\n",
       "</tr>\n",
       "<tr>\n",
       "  <th>Genres_Personalization</th>                       <td>    1.6777</td> <td>    0.121</td> <td>   13.869</td> <td> 0.000</td> <td>    1.441</td> <td>    1.915</td>\n",
       "</tr>\n",
       "<tr>\n",
       "  <th>Genres_Photography</th>                           <td>    1.5850</td> <td>    0.121</td> <td>   13.079</td> <td> 0.000</td> <td>    1.347</td> <td>    1.823</td>\n",
       "</tr>\n",
       "<tr>\n",
       "  <th>Genres_Productivity</th>                          <td>    1.6215</td> <td>    0.121</td> <td>   13.401</td> <td> 0.000</td> <td>    1.384</td> <td>    1.859</td>\n",
       "</tr>\n",
       "<tr>\n",
       "  <th>Genres_Puzzle</th>                                <td>    0.3265</td> <td>    0.077</td> <td>    4.241</td> <td> 0.000</td> <td>    0.176</td> <td>    0.477</td>\n",
       "</tr>\n",
       "<tr>\n",
       "  <th>Genres_Puzzle_Action_&_Adventure</th>             <td>    0.3035</td> <td>    0.230</td> <td>    1.318</td> <td> 0.187</td> <td>   -0.148</td> <td>    0.755</td>\n",
       "</tr>\n",
       "<tr>\n",
       "  <th>Genres_Puzzle_Brain_Games</th>                    <td>    0.4834</td> <td>    0.146</td> <td>    3.309</td> <td> 0.001</td> <td>    0.197</td> <td>    0.770</td>\n",
       "</tr>\n",
       "<tr>\n",
       "  <th>Genres_Puzzle_Creativity</th>                     <td>    0.5721</td> <td>    0.493</td> <td>    1.161</td> <td> 0.246</td> <td>   -0.394</td> <td>    1.538</td>\n",
       "</tr>\n",
       "<tr>\n",
       "  <th>Genres_Puzzle_Education</th>                      <td>    0.8669</td> <td>    0.492</td> <td>    1.760</td> <td> 0.078</td> <td>   -0.098</td> <td>    1.832</td>\n",
       "</tr>\n",
       "<tr>\n",
       "  <th>Genres_Racing</th>                                <td>   -0.0122</td> <td>    0.076</td> <td>   -0.160</td> <td> 0.873</td> <td>   -0.162</td> <td>    0.137</td>\n",
       "</tr>\n",
       "<tr>\n",
       "  <th>Genres_Racing_Action_&_Adventure</th>             <td>    0.4672</td> <td>    0.150</td> <td>    3.114</td> <td> 0.002</td> <td>    0.173</td> <td>    0.761</td>\n",
       "</tr>\n",
       "<tr>\n",
       "  <th>Genres_Racing_Pretend_Play</th>                   <td>    0.9585</td> <td>    0.493</td> <td>    1.945</td> <td> 0.052</td> <td>   -0.008</td> <td>    1.925</td>\n",
       "</tr>\n",
       "<tr>\n",
       "  <th>Genres_Role_Playing</th>                          <td>    0.1764</td> <td>    0.085</td> <td>    2.083</td> <td> 0.037</td> <td>    0.010</td> <td>    0.342</td>\n",
       "</tr>\n",
       "<tr>\n",
       "  <th>Genres_Role_Playing_Action_&_Adventure</th>       <td>    0.3214</td> <td>    0.230</td> <td>    1.398</td> <td> 0.162</td> <td>   -0.129</td> <td>    0.772</td>\n",
       "</tr>\n",
       "<tr>\n",
       "  <th>Genres_Role_Playing_Brain_Games</th>              <td>         0</td> <td>        0</td> <td>      nan</td> <td>   nan</td> <td>        0</td> <td>        0</td>\n",
       "</tr>\n",
       "<tr>\n",
       "  <th>Genres_Role_Playing_Pretend_Play</th>             <td>    0.7808</td> <td>    0.493</td> <td>    1.584</td> <td> 0.113</td> <td>   -0.185</td> <td>    1.747</td>\n",
       "</tr>\n",
       "<tr>\n",
       "  <th>Genres_Shopping</th>                              <td>    1.6089</td> <td>    0.121</td> <td>   13.246</td> <td> 0.000</td> <td>    1.371</td> <td>    1.847</td>\n",
       "</tr>\n",
       "<tr>\n",
       "  <th>Genres_Simulation</th>                            <td>    0.2066</td> <td>    0.082</td> <td>    2.527</td> <td> 0.012</td> <td>    0.046</td> <td>    0.367</td>\n",
       "</tr>\n",
       "<tr>\n",
       "  <th>Genres_Simulation_Action_&_Adventure</th>         <td>    0.4331</td> <td>    0.176</td> <td>    2.459</td> <td> 0.014</td> <td>    0.088</td> <td>    0.778</td>\n",
       "</tr>\n",
       "<tr>\n",
       "  <th>Genres_Simulation_Education</th>                  <td>    0.2584</td> <td>    0.287</td> <td>    0.901</td> <td> 0.368</td> <td>   -0.304</td> <td>    0.821</td>\n",
       "</tr>\n",
       "<tr>\n",
       "  <th>Genres_Simulation_Pretend_Play</th>               <td>    0.2119</td> <td>    0.291</td> <td>    0.729</td> <td> 0.466</td> <td>   -0.358</td> <td>    0.781</td>\n",
       "</tr>\n",
       "<tr>\n",
       "  <th>Genres_Social</th>                                <td>    1.6116</td> <td>    0.121</td> <td>   13.298</td> <td> 0.000</td> <td>    1.374</td> <td>    1.849</td>\n",
       "</tr>\n",
       "<tr>\n",
       "  <th>Genres_Sports</th>                                <td>    0.0691</td> <td>    0.346</td> <td>    0.199</td> <td> 0.842</td> <td>   -0.610</td> <td>    0.748</td>\n",
       "</tr>\n",
       "<tr>\n",
       "  <th>Genres_Sports_Action_&_Adventure</th>             <td>    0.2638</td> <td>    0.291</td> <td>    0.907</td> <td> 0.364</td> <td>   -0.306</td> <td>    0.834</td>\n",
       "</tr>\n",
       "<tr>\n",
       "  <th>Genres_Strategy</th>                              <td>    0.1662</td> <td>    0.095</td> <td>    1.755</td> <td> 0.079</td> <td>   -0.019</td> <td>    0.352</td>\n",
       "</tr>\n",
       "<tr>\n",
       "  <th>Genres_Strategy_Action_&_Adventure</th>           <td>    0.3897</td> <td>    0.493</td> <td>    0.790</td> <td> 0.430</td> <td>   -0.577</td> <td>    1.357</td>\n",
       "</tr>\n",
       "<tr>\n",
       "  <th>Genres_Strategy_Creativity</th>                   <td>         0</td> <td>        0</td> <td>      nan</td> <td>   nan</td> <td>        0</td> <td>        0</td>\n",
       "</tr>\n",
       "<tr>\n",
       "  <th>Genres_Strategy_Education</th>                    <td>    0.8561</td> <td>    0.493</td> <td>    1.738</td> <td> 0.082</td> <td>   -0.109</td> <td>    1.822</td>\n",
       "</tr>\n",
       "<tr>\n",
       "  <th>Genres_Tools</th>                                 <td>    0.9922</td> <td>    0.181</td> <td>    5.467</td> <td> 0.000</td> <td>    0.636</td> <td>    1.348</td>\n",
       "</tr>\n",
       "<tr>\n",
       "  <th>Genres_Tools_Education</th>                       <td>    1.1548</td> <td>    0.334</td> <td>    3.453</td> <td> 0.001</td> <td>    0.499</td> <td>    1.810</td>\n",
       "</tr>\n",
       "<tr>\n",
       "  <th>Genres_Travel_&_Local</th>                        <td>    1.0203</td> <td>    0.183</td> <td>    5.578</td> <td> 0.000</td> <td>    0.662</td> <td>    1.379</td>\n",
       "</tr>\n",
       "<tr>\n",
       "  <th>Genres_Travel_&_Local_Action_&_Adventure</th>     <td>    1.1159</td> <td>    0.335</td> <td>    3.336</td> <td> 0.001</td> <td>    0.460</td> <td>    1.772</td>\n",
       "</tr>\n",
       "<tr>\n",
       "  <th>Genres_Trivia</th>                                <td>   -0.1318</td> <td>    0.108</td> <td>   -1.224</td> <td> 0.221</td> <td>   -0.343</td> <td>    0.079</td>\n",
       "</tr>\n",
       "<tr>\n",
       "  <th>Genres_Video_Players_&_Editors</th>               <td>    0.2609</td> <td>    0.603</td> <td>    0.433</td> <td> 0.665</td> <td>   -0.921</td> <td>    1.443</td>\n",
       "</tr>\n",
       "<tr>\n",
       "  <th>Genres_Video_Players_&_Editors_Creativity</th>    <td>    0.0333</td> <td>    0.493</td> <td>    0.068</td> <td> 0.946</td> <td>   -0.932</td> <td>    0.999</td>\n",
       "</tr>\n",
       "<tr>\n",
       "  <th>Genres_Video_Players_&_Editors_Music_&_Video</th> <td>    0.1307</td> <td>    0.352</td> <td>    0.371</td> <td> 0.711</td> <td>   -0.560</td> <td>    0.821</td>\n",
       "</tr>\n",
       "<tr>\n",
       "  <th>Genres_Weather</th>                               <td>    1.6197</td> <td>    0.125</td> <td>   13.001</td> <td> 0.000</td> <td>    1.375</td> <td>    1.864</td>\n",
       "</tr>\n",
       "<tr>\n",
       "  <th>Genres_Word</th>                                  <td>    0.1102</td> <td>    0.109</td> <td>    1.007</td> <td> 0.314</td> <td>   -0.104</td> <td>    0.325</td>\n",
       "</tr>\n",
       "</table>\n",
       "<table class=\"simpletable\">\n",
       "<tr>\n",
       "  <th>Omnibus:</th>       <td>2313.849</td> <th>  Durbin-Watson:     </th> <td>   2.022</td> \n",
       "</tr>\n",
       "<tr>\n",
       "  <th>Prob(Omnibus):</th>  <td> 0.000</td>  <th>  Jarque-Bera (JB):  </th> <td>13559.111</td>\n",
       "</tr>\n",
       "<tr>\n",
       "  <th>Skew:</th>           <td>-1.673</td>  <th>  Prob(JB):          </th> <td>    0.00</td> \n",
       "</tr>\n",
       "<tr>\n",
       "  <th>Kurtosis:</th>       <td> 9.416</td>  <th>  Cond. No.          </th> <td>5.59e+20</td> \n",
       "</tr>\n",
       "</table><br/><br/>Notes:<br/>[1] R² is computed without centering (uncentered) since the model does not contain a constant.<br/>[2] Standard Errors assume that the covariance matrix of the errors is correctly specified.<br/>[3] The smallest eigenvalue is 1.72e-29. This might indicate that there are<br/>strong multicollinearity problems or that the design matrix is singular."
      ],
      "text/plain": [
       "<class 'statsmodels.iolib.summary.Summary'>\n",
       "\"\"\"\n",
       "                                 OLS Regression Results                                \n",
       "=======================================================================================\n",
       "Dep. Variable:                 Rating   R-squared (uncentered):                   0.987\n",
       "Model:                            OLS   Adj. R-squared (uncentered):              0.987\n",
       "Method:                 Least Squares   F-statistic:                              3717.\n",
       "Date:                Mon, 16 Jan 2023   Prob (F-statistic):                        0.00\n",
       "Time:                        18:22:38   Log-Likelihood:                         -4281.6\n",
       "No. Observations:                6215   AIC:                                      8811.\n",
       "Df Residuals:                    6091   BIC:                                      9646.\n",
       "Df Model:                         124                                                  \n",
       "Covariance Type:            nonrobust                                                  \n",
       "================================================================================================================\n",
       "                                                   coef    std err          t      P>|t|      [0.025      0.975]\n",
       "----------------------------------------------------------------------------------------------------------------\n",
       "Reviews                                          0.1752      0.006     28.058      0.000       0.163       0.187\n",
       "Size                                         -3.201e-07   3.59e-07     -0.892      0.372   -1.02e-06    3.83e-07\n",
       "Installs                                        -0.1499      0.006    -24.185      0.000      -0.162      -0.138\n",
       "Price                                            0.0006      0.003      0.180      0.857      -0.006       0.007\n",
       "Category_AUTO_AND_VEHICLES                       1.6384      0.125     13.138      0.000       1.394       1.883\n",
       "Category_BEAUTY                                  1.7217      0.128     13.464      0.000       1.471       1.972\n",
       "Category_BOOKS_AND_REFERENCE                     1.6847      0.122     13.829      0.000       1.446       1.923\n",
       "Category_BUSINESS                                1.6048      0.121     13.274      0.000       1.368       1.842\n",
       "Category_COMICS                                  2.3788      0.226     10.518      0.000       1.935       2.822\n",
       "Category_COMMUNICATION                           1.5481      0.121     12.767      0.000       1.310       1.786\n",
       "Category_DATING                                  1.5017      0.122     12.265      0.000       1.262       1.742\n",
       "Category_EDUCATION                               2.8672      0.251     11.427      0.000       2.375       3.359\n",
       "Category_ENTERTAINMENT                           2.7776      0.251     11.070      0.000       2.286       3.269\n",
       "Category_EVENTS                                  1.7449      0.126     13.794      0.000       1.497       1.993\n",
       "Category_FAMILY                                  2.9012      0.243     11.926      0.000       2.424       3.378\n",
       "Category_FINANCE                                 1.5686      0.121     12.977      0.000       1.332       1.806\n",
       "Category_FOOD_AND_DRINK                          1.5996      0.123     13.008      0.000       1.358       1.841\n",
       "Category_GAME                                    3.1400      0.241     13.049      0.000       2.668       3.612\n",
       "Category_HEALTH_AND_FITNESS                      1.6294      0.121     13.463      0.000       1.392       1.867\n",
       "Category_HOUSE_AND_HOME                          1.6153      0.124     13.004      0.000       1.372       1.859\n",
       "Category_LIBRARIES_AND_DEMO                      1.6543      0.125     13.249      0.000       1.410       1.899\n",
       "Category_LIFESTYLE                               1.5915      0.121     13.157      0.000       1.354       1.829\n",
       "Category_MAPS_AND_NAVIGATION                     1.5214      0.123     12.401      0.000       1.281       1.762\n",
       "Category_MEDICAL                                 1.6356      0.121     13.545      0.000       1.399       1.872\n",
       "Category_NEWS_AND_MAGAZINES                      1.5641      0.121     12.899      0.000       1.326       1.802\n",
       "Category_PARENTING                               2.5357      0.213     11.917      0.000       2.119       2.953\n",
       "Category_PERSONALIZATION                         1.6777      0.121     13.869      0.000       1.441       1.915\n",
       "Category_PHOTOGRAPHY                             1.5850      0.121     13.079      0.000       1.347       1.823\n",
       "Category_PRODUCTIVITY                            1.6215      0.121     13.401      0.000       1.384       1.859\n",
       "Category_SHOPPING                                1.6089      0.121     13.246      0.000       1.371       1.847\n",
       "Category_SOCIAL                                  1.6116      0.121     13.298      0.000       1.374       1.849\n",
       "Category_SPORTS                                  3.0914      0.421      7.346      0.000       2.266       3.916\n",
       "Category_TOOLS                                   2.1470      0.228      9.419      0.000       1.700       2.594\n",
       "Category_TRAVEL_AND_LOCAL                        2.1362      0.228      9.360      0.000       1.689       2.584\n",
       "Category_VIDEO_PLAYERS                           2.8565      0.644      4.434      0.000       1.594       4.119\n",
       "Category_WEATHER                                 1.6197      0.125     13.001      0.000       1.375       1.864\n",
       "Type_Paid                                       -0.0839      0.032     -2.642      0.008      -0.146      -0.022\n",
       "Content_Rating_Everyone                          1.3859      0.239      5.808      0.000       0.918       1.854\n",
       "Content_Rating_Everyone_10+                      1.3853      0.240      5.761      0.000       0.914       1.857\n",
       "Content_Rating_Mature_17+                        1.3701      0.241      5.690      0.000       0.898       1.842\n",
       "Content_Rating_Teen                              1.3959      0.239      5.845      0.000       0.928       1.864\n",
       "Content_Rating_Unrated                           1.3442      0.543      2.478      0.013       0.281       2.408\n",
       "Genres_Action_Action_&_Adventure                 0.2736      0.153      1.791      0.073      -0.026       0.573\n",
       "Genres_Adventure                                -0.0818      0.078     -1.054      0.292      -0.234       0.070\n",
       "Genres_Adventure_Action_&_Adventure              0.3243      0.352      0.921      0.357      -0.366       1.015\n",
       "Genres_Adventure_Brain_Games                     0.5685      0.493      1.153      0.249      -0.398       1.535\n",
       "Genres_Adventure_Education                       0.0555      0.353      0.157      0.875      -0.636       0.747\n",
       "Genres_Arcade                                    0.0808      0.055      1.463      0.143      -0.027       0.189\n",
       "Genres_Arcade_Action_&_Adventure                 0.2857      0.164      1.741      0.082      -0.036       0.607\n",
       "Genres_Arcade_Pretend_Play                       0.5482      0.493      1.112      0.266      -0.418       1.514\n",
       "Genres_Art_&_Design                              3.4668      0.253     13.713      0.000       2.971       3.962\n",
       "Genres_Art_&_Design_Creativity                   2.5986      0.258     10.075      0.000       2.093       3.104\n",
       "Genres_Art_&_Design_Pretend_Play                 3.2808      0.543      6.040      0.000       2.216       4.346\n",
       "Genres_Auto_&_Vehicles                           1.6384      0.125     13.138      0.000       1.394       1.883\n",
       "Genres_Beauty                                    1.7217      0.128     13.464      0.000       1.471       1.972\n",
       "Genres_Board                                     0.0195      0.093      0.210      0.834      -0.163       0.202\n",
       "Genres_Board_Action_&_Adventure                  0.0980      0.493      0.199      0.842      -0.868       1.064\n",
       "Genres_Board_Brain_Games                         0.4746      0.171      2.773      0.006       0.139       0.810\n",
       "Genres_Board_Pretend_Play                     1.229e-12   1.75e-11      0.070      0.944   -3.31e-11    3.56e-11\n",
       "Genres_Books_&_Reference                         1.6847      0.122     13.829      0.000       1.446       1.923\n",
       "Genres_Books_&_Reference_Education               0.3077      0.352      0.874      0.382      -0.383       0.998\n",
       "Genres_Business                                  1.6048      0.121     13.274      0.000       1.368       1.842\n",
       "Genres_Card                                     -0.1038      0.088     -1.182      0.237      -0.276       0.068\n",
       "Genres_Card_Action_&_Adventure                   0.0719      0.353      0.204      0.839      -0.620       0.764\n",
       "Genres_Card_Brain_Games                          0.7026      0.492      1.427      0.154      -0.263       1.668\n",
       "Genres_Casino                                    0.0818      0.097      0.845      0.398      -0.108       0.272\n",
       "Genres_Casual                                    0.1800      0.082      2.206      0.027       0.020       0.340\n",
       "Genres_Casual_Action_&_Adventure                 0.4072      0.159      2.563      0.010       0.096       0.719\n",
       "Genres_Casual_Brain_Games                        0.6550      0.185      3.543      0.000       0.293       1.017\n",
       "Genres_Casual_Creativity                         0.3371      0.227      1.487      0.137      -0.107       0.782\n",
       "Genres_Casual_Education                          0.3833      0.352      1.088      0.277      -0.307       1.074\n",
       "Genres_Casual_Music_&_Video                      0.3872      0.493      0.786      0.432      -0.579       1.353\n",
       "Genres_Casual_Pretend_Play                       0.2670      0.126      2.117      0.034       0.020       0.514\n",
       "Genres_Comics                                    0.8127      0.185      4.384      0.000       0.449       1.176\n",
       "Genres_Comics_Creativity                         1.5662      0.337      4.654      0.000       0.906       2.226\n",
       "Genres_Communication                             1.5481      0.121     12.767      0.000       1.310       1.786\n",
       "Genres_Communication_Creativity                  0.4556      0.493      0.925      0.355      -0.510       1.421\n",
       "Genres_Dating                                    1.5017      0.122     12.265      0.000       1.262       1.742\n",
       "Genres_Education                                 0.4790      0.080      5.956      0.000       0.321       0.637\n",
       "Genres_Education_Action_&_Adventure              0.8235      0.292      2.823      0.005       0.252       1.396\n",
       "Genres_Education_Brain_Games                     0.3526      0.293      1.202      0.229      -0.222       0.928\n",
       "Genres_Education_Creativity                      0.7756      0.232      3.348      0.001       0.321       1.230\n",
       "Genres_Education_Education                       0.5621      0.115      4.886      0.000       0.337       0.788\n",
       "Genres_Education_Music_&_Video                   0.3903      0.493      0.792      0.428      -0.575       1.356\n",
       "Genres_Education_Pretend_Play                    0.5617      0.133      4.231      0.000       0.301       0.822\n",
       "Genres_Educational                               0.0137      0.125      0.110      0.913      -0.231       0.259\n",
       "Genres_Educational_Action_&_Adventure            0.3502      0.255      1.375      0.169      -0.149       0.849\n",
       "Genres_Educational_Brain_Games                   0.4413      0.255      1.733      0.083      -0.058       0.941\n",
       "Genres_Educational_Creativity                    0.2077      0.291      0.713      0.476      -0.364       0.779\n",
       "Genres_Educational_Education                     0.4512      0.118      3.811      0.000       0.219       0.683\n",
       "Genres_Educational_Pretend_Play                  0.3583      0.150      2.389      0.017       0.064       0.652\n",
       "Genres_Entertainment                             0.2587      0.079      3.264      0.001       0.103       0.414\n",
       "Genres_Entertainment_Action_&_Adventure          0.3650      0.291      1.255      0.210      -0.205       0.935\n",
       "Genres_Entertainment_Brain_Games                 0.4462      0.199      2.238      0.025       0.055       0.837\n",
       "Genres_Entertainment_Creativity                  0.7070      0.354      1.999      0.046       0.014       1.400\n",
       "Genres_Entertainment_Education                   0.6278      0.493      1.275      0.202      -0.338       1.593\n",
       "Genres_Entertainment_Music_&_Video               0.3975      0.155      2.570      0.010       0.094       0.701\n",
       "Genres_Entertainment_Pretend_Play                0.0029      0.352      0.008      0.994      -0.688       0.693\n",
       "Genres_Events                                    1.7449      0.126     13.794      0.000       1.497       1.993\n",
       "Genres_Finance                                   1.5686      0.121     12.977      0.000       1.332       1.806\n",
       "Genres_Food_&_Drink                              1.5996      0.123     13.008      0.000       1.358       1.841\n",
       "Genres_Health_&_Fitness                          1.6294      0.121     13.463      0.000       1.392       1.867\n",
       "Genres_Health_&_Fitness_Action_&_Adventure      -0.1020      0.493     -0.207      0.836      -1.068       0.864\n",
       "Genres_Health_&_Fitness_Education                0.5451      0.492      1.107      0.268      -0.420       1.511\n",
       "Genres_House_&_Home                              1.6153      0.124     13.004      0.000       1.372       1.859\n",
       "Genres_Libraries_&_Demo                          1.6543      0.125     13.249      0.000       1.410       1.899\n",
       "Genres_Lifestyle                                 1.5915      0.121     13.157      0.000       1.354       1.829\n",
       "Genres_Lifestyle_Education                    -4.98e-13   1.72e-12     -0.289      0.773   -3.88e-12    2.88e-12\n",
       "Genres_Lifestyle_Pretend_Play                -1.959e-13   2.41e-12     -0.081      0.935   -4.91e-12    4.52e-12\n",
       "Genres_Maps_&_Navigation                         1.5214      0.123     12.401      0.000       1.281       1.762\n",
       "Genres_Medical                                   1.6356      0.121     13.545      0.000       1.399       1.872\n",
       "Genres_Music                                    -0.0519      0.134     -0.386      0.700      -0.316       0.212\n",
       "Genres_Music_&_Audio_Music_&_Video               0.7175      0.493      1.456      0.145      -0.248       1.683\n",
       "Genres_Music_Music_&_Video                       0.7615      0.352      2.162      0.031       0.071       1.452\n",
       "Genres_News_&_Magazines                          1.5641      0.121     12.899      0.000       1.326       1.802\n",
       "Genres_Parenting                                 0.8855      0.142      6.229      0.000       0.607       1.164\n",
       "Genres_Parenting_Brain_Games                 -2.336e-14   6.69e-13     -0.035      0.972   -1.33e-12    1.29e-12\n",
       "Genres_Parenting_Education                       0.6848      0.275      2.487      0.013       0.145       1.224\n",
       "Genres_Parenting_Music_&_Video                   0.9654      0.236      4.082      0.000       0.502       1.429\n",
       "Genres_Personalization                           1.6777      0.121     13.869      0.000       1.441       1.915\n",
       "Genres_Photography                               1.5850      0.121     13.079      0.000       1.347       1.823\n",
       "Genres_Productivity                              1.6215      0.121     13.401      0.000       1.384       1.859\n",
       "Genres_Puzzle                                    0.3265      0.077      4.241      0.000       0.176       0.477\n",
       "Genres_Puzzle_Action_&_Adventure                 0.3035      0.230      1.318      0.187      -0.148       0.755\n",
       "Genres_Puzzle_Brain_Games                        0.4834      0.146      3.309      0.001       0.197       0.770\n",
       "Genres_Puzzle_Creativity                         0.5721      0.493      1.161      0.246      -0.394       1.538\n",
       "Genres_Puzzle_Education                          0.8669      0.492      1.760      0.078      -0.098       1.832\n",
       "Genres_Racing                                   -0.0122      0.076     -0.160      0.873      -0.162       0.137\n",
       "Genres_Racing_Action_&_Adventure                 0.4672      0.150      3.114      0.002       0.173       0.761\n",
       "Genres_Racing_Pretend_Play                       0.9585      0.493      1.945      0.052      -0.008       1.925\n",
       "Genres_Role_Playing                              0.1764      0.085      2.083      0.037       0.010       0.342\n",
       "Genres_Role_Playing_Action_&_Adventure           0.3214      0.230      1.398      0.162      -0.129       0.772\n",
       "Genres_Role_Playing_Brain_Games                       0          0        nan        nan           0           0\n",
       "Genres_Role_Playing_Pretend_Play                 0.7808      0.493      1.584      0.113      -0.185       1.747\n",
       "Genres_Shopping                                  1.6089      0.121     13.246      0.000       1.371       1.847\n",
       "Genres_Simulation                                0.2066      0.082      2.527      0.012       0.046       0.367\n",
       "Genres_Simulation_Action_&_Adventure             0.4331      0.176      2.459      0.014       0.088       0.778\n",
       "Genres_Simulation_Education                      0.2584      0.287      0.901      0.368      -0.304       0.821\n",
       "Genres_Simulation_Pretend_Play                   0.2119      0.291      0.729      0.466      -0.358       0.781\n",
       "Genres_Social                                    1.6116      0.121     13.298      0.000       1.374       1.849\n",
       "Genres_Sports                                    0.0691      0.346      0.199      0.842      -0.610       0.748\n",
       "Genres_Sports_Action_&_Adventure                 0.2638      0.291      0.907      0.364      -0.306       0.834\n",
       "Genres_Strategy                                  0.1662      0.095      1.755      0.079      -0.019       0.352\n",
       "Genres_Strategy_Action_&_Adventure               0.3897      0.493      0.790      0.430      -0.577       1.357\n",
       "Genres_Strategy_Creativity                            0          0        nan        nan           0           0\n",
       "Genres_Strategy_Education                        0.8561      0.493      1.738      0.082      -0.109       1.822\n",
       "Genres_Tools                                     0.9922      0.181      5.467      0.000       0.636       1.348\n",
       "Genres_Tools_Education                           1.1548      0.334      3.453      0.001       0.499       1.810\n",
       "Genres_Travel_&_Local                            1.0203      0.183      5.578      0.000       0.662       1.379\n",
       "Genres_Travel_&_Local_Action_&_Adventure         1.1159      0.335      3.336      0.001       0.460       1.772\n",
       "Genres_Trivia                                   -0.1318      0.108     -1.224      0.221      -0.343       0.079\n",
       "Genres_Video_Players_&_Editors                   0.2609      0.603      0.433      0.665      -0.921       1.443\n",
       "Genres_Video_Players_&_Editors_Creativity        0.0333      0.493      0.068      0.946      -0.932       0.999\n",
       "Genres_Video_Players_&_Editors_Music_&_Video     0.1307      0.352      0.371      0.711      -0.560       0.821\n",
       "Genres_Weather                                   1.6197      0.125     13.001      0.000       1.375       1.864\n",
       "Genres_Word                                      0.1102      0.109      1.007      0.314      -0.104       0.325\n",
       "==============================================================================\n",
       "Omnibus:                     2313.849   Durbin-Watson:                   2.022\n",
       "Prob(Omnibus):                  0.000   Jarque-Bera (JB):            13559.111\n",
       "Skew:                          -1.673   Prob(JB):                         0.00\n",
       "Kurtosis:                       9.416   Cond. No.                     5.59e+20\n",
       "==============================================================================\n",
       "\n",
       "Notes:\n",
       "[1] R² is computed without centering (uncentered) since the model does not contain a constant.\n",
       "[2] Standard Errors assume that the covariance matrix of the errors is correctly specified.\n",
       "[3] The smallest eigenvalue is 1.72e-29. This might indicate that there are\n",
       "strong multicollinearity problems or that the design matrix is singular.\n",
       "\"\"\""
      ]
     },
     "execution_count": 69,
     "metadata": {},
     "output_type": "execute_result"
    }
   ],
   "source": [
    "model.summary()"
   ]
  },
  {
   "cell_type": "code",
   "execution_count": 70,
   "id": "5236a6b1",
   "metadata": {},
   "outputs": [],
   "source": [
    "#Prob(F-stastics):<=.5;therefore reject null hypothesis: "
   ]
  },
  {
   "cell_type": "code",
   "execution_count": 71,
   "id": "f0b480fb",
   "metadata": {},
   "outputs": [],
   "source": [
    "#null  and alternate hypothesis mutually exlusively"
   ]
  },
  {
   "cell_type": "code",
   "execution_count": 72,
   "id": "40d0db9b",
   "metadata": {},
   "outputs": [],
   "source": [
    "#hO=null hypothesis ie all the coefficients are zero\n",
    "#h1= atleast one coefficient is  non zero"
   ]
  },
  {
   "cell_type": "code",
   "execution_count": 73,
   "id": "8a5a4387",
   "metadata": {},
   "outputs": [],
   "source": [
    "#here size has p value > .05; therefore it is stastically not different from .zero"
   ]
  },
  {
   "cell_type": "code",
   "execution_count": 74,
   "id": "9176863b",
   "metadata": {},
   "outputs": [],
   "source": [
    "from sklearn.metrics import mean_absolute_error,mean_squared_error"
   ]
  },
  {
   "cell_type": "code",
   "execution_count": 75,
   "id": "a43a2ed8",
   "metadata": {},
   "outputs": [],
   "source": [
    "y_pred=model.predict(X_test)"
   ]
  },
  {
   "cell_type": "code",
   "execution_count": 76,
   "id": "358823d9",
   "metadata": {},
   "outputs": [
    {
     "data": {
      "text/plain": [
       "1161     4.079198\n",
       "4125     3.932610\n",
       "3499     4.330407\n",
       "6232     4.596357\n",
       "4239     4.123923\n",
       "1002     4.163840\n",
       "10269    4.118338\n",
       "9862     4.293908\n",
       "9922     3.903549\n",
       "2302     4.032888\n",
       "dtype: float64"
      ]
     },
     "execution_count": 76,
     "metadata": {},
     "output_type": "execute_result"
    }
   ],
   "source": [
    "y_pred[:10]"
   ]
  },
  {
   "cell_type": "code",
   "execution_count": 77,
   "id": "71996389",
   "metadata": {},
   "outputs": [
    {
     "name": "stdout",
     "output_type": "stream",
     "text": [
      "0.4920539651726564\n"
     ]
    }
   ],
   "source": [
    "print(np.sqrt(mean_squared_error(y_test,y_pred)))"
   ]
  },
  {
   "cell_type": "code",
   "execution_count": 78,
   "id": "e48decf1",
   "metadata": {},
   "outputs": [],
   "source": [
    "#RMSE ;eg;ratings of an app vary btwn 1-5,normaly 4-5;avg 4.25, rmse=0.49;\n",
    "\n",
    " #therefore in order to evaluate the performance of the model,check RMSE/MEAN Y_TEST"
   ]
  },
  {
   "cell_type": "code",
   "execution_count": 80,
   "id": "95fb2d96",
   "metadata": {},
   "outputs": [
    {
     "data": {
      "text/plain": [
       "0.11820476696153606"
      ]
     },
     "execution_count": 80,
     "metadata": {},
     "output_type": "execute_result"
    }
   ],
   "source": [
    "0.4920539651726564/y_test.mean()"
   ]
  },
  {
   "cell_type": "code",
   "execution_count": 81,
   "id": "4a90e565",
   "metadata": {},
   "outputs": [],
   "source": [
    "#11.8% is the avrg margin of error."
   ]
  },
  {
   "cell_type": "code",
   "execution_count": 82,
   "id": "e1a9b0cc",
   "metadata": {},
   "outputs": [],
   "source": [
    "from sklearn.linear_model import Ridge"
   ]
  },
  {
   "cell_type": "code",
   "execution_count": 84,
   "id": "6f437ad6",
   "metadata": {},
   "outputs": [
    {
     "data": {
      "text/plain": [
       "Ridge(alpha=0.001, normalize=True)"
      ]
     },
     "execution_count": 84,
     "metadata": {},
     "output_type": "execute_result"
    }
   ],
   "source": [
    "ridge_model=Ridge(alpha=.001,normalize=True)\n",
    "ridge_model.fit(X_train,y_train)"
   ]
  },
  {
   "cell_type": "code",
   "execution_count": 85,
   "id": "e90b91d3",
   "metadata": {},
   "outputs": [],
   "source": [
    "pred=ridge_model.predict(X_test)"
   ]
  },
  {
   "cell_type": "code",
   "execution_count": 87,
   "id": "17e27f03",
   "metadata": {},
   "outputs": [
    {
     "name": "stdout",
     "output_type": "stream",
     "text": [
      "0.4879987555165292\n"
     ]
    }
   ],
   "source": [
    "print(np.sqrt(mean_squared_error(y_test,pred)))"
   ]
  },
  {
   "cell_type": "code",
   "execution_count": 88,
   "id": "aecb1410",
   "metadata": {},
   "outputs": [
    {
     "name": "stdout",
     "output_type": "stream",
     "text": [
      "0.4786676907431027\n"
     ]
    }
   ],
   "source": [
    "0.4879987555165292"
   ]
  },
  {
   "cell_type": "code",
   "execution_count": 89,
   "id": "a2e244e7",
   "metadata": {},
   "outputs": [
    {
     "data": {
      "text/plain": [
       "0.117230595130171"
      ]
     },
     "execution_count": 89,
     "metadata": {},
     "output_type": "execute_result"
    }
   ],
   "source": [
    "0.4879987555165292/y_test.mean()"
   ]
  },
  {
   "cell_type": "code",
   "execution_count": 90,
   "id": "96ada5cd",
   "metadata": {},
   "outputs": [],
   "source": [
    "from sklearn.linear_model import ElasticNet"
   ]
  },
  {
   "cell_type": "code",
   "execution_count": 91,
   "id": "2a5e3a37",
   "metadata": {},
   "outputs": [],
   "source": [
    "net=ElasticNet(alpha=.001,normalize=True)"
   ]
  },
  {
   "cell_type": "code",
   "execution_count": 92,
   "id": "37a55514",
   "metadata": {},
   "outputs": [
    {
     "data": {
      "text/plain": [
       "ElasticNet(alpha=0.001, normalize=True)"
      ]
     },
     "execution_count": 92,
     "metadata": {},
     "output_type": "execute_result"
    }
   ],
   "source": [
    "net.fit(X_train,y_train)"
   ]
  },
  {
   "cell_type": "code",
   "execution_count": 93,
   "id": "ec165531",
   "metadata": {},
   "outputs": [
    {
     "name": "stdout",
     "output_type": "stream",
     "text": [
      "0.5220643755303499\n"
     ]
    }
   ],
   "source": [
    "print(np.sqrt(mean_squared_error(y_test,net.predict(X_test))))"
   ]
  },
  {
   "cell_type": "code",
   "execution_count": 96,
   "id": "5c01ed74",
   "metadata": {},
   "outputs": [
    {
     "name": "stdout",
     "output_type": "stream",
     "text": [
      "0.5214331925073523\n"
     ]
    }
   ],
   "source": [
    "print(np.sqrt(mean_squared_error(y_train,net.predict(X_train))))"
   ]
  },
  {
   "cell_type": "code",
   "execution_count": null,
   "id": "5b0d7998",
   "metadata": {},
   "outputs": [],
   "source": []
  }
 ],
 "metadata": {
  "kernelspec": {
   "display_name": "Python 3 (ipykernel)",
   "language": "python",
   "name": "python3"
  },
  "language_info": {
   "codemirror_mode": {
    "name": "ipython",
    "version": 3
   },
   "file_extension": ".py",
   "mimetype": "text/x-python",
   "name": "python",
   "nbconvert_exporter": "python",
   "pygments_lexer": "ipython3",
   "version": "3.9.12"
  }
 },
 "nbformat": 4,
 "nbformat_minor": 5
}
